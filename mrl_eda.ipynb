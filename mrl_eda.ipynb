{
 "cells": [
  {
   "cell_type": "code",
   "execution_count": null,
   "metadata": {},
   "outputs": [],
   "source": [
    "%load_ext autoreload\n",
    "%autoreload 2"
   ]
  },
  {
   "cell_type": "code",
   "execution_count": 73,
   "metadata": {},
   "outputs": [],
   "source": [
    "from collections import Counter, defaultdict\n",
    "from pathlib import Path\n",
    "\n",
    "import matplotlib.pyplot as plt\n",
    "import numpy as np\n",
    "\n",
    "from model.common import Anomalies"
   ]
  },
  {
   "cell_type": "code",
   "execution_count": 74,
   "metadata": {},
   "outputs": [],
   "source": [
    "plt.style.use('seaborn-v0_8-whitegrid')\n",
    "plt.rcParams.update({'font.size': 16})"
   ]
  },
  {
   "cell_type": "code",
   "execution_count": 75,
   "metadata": {},
   "outputs": [],
   "source": [
    "DRIVER_MAP = {\n",
    "    'geordi': '2021_08_31_geordi_enyaq',\n",
    "    'poli': '2021_09_06_poli_enyaq',\n",
    "    'michal': '2021_11_05_michal_enyaq',\n",
    "    'dans': '2021_11_18_dans_enyaq',\n",
    "    'jakub': '2021_11_18_jakubh_enyaq',\n",
    "}\n",
    "DRIVER_ID_MAP = {\n",
    "    'geordi': 'A',\n",
    "    'poli': 'B',\n",
    "    'michal': 'C',\n",
    "    'dans': 'D',\n",
    "    'jakub': 'E',\n",
    "}\n",
    "\n",
    "# Path().home() / 'source/driver-dataset/2024-10-28-driver-all-frames'\n",
    "DATASET_DIR = Path('annotations')"
   ]
  },
  {
   "cell_type": "code",
   "execution_count": 76,
   "metadata": {},
   "outputs": [],
   "source": [
    "def get_gt(driver: str) -> list[int]:\n",
    "    anomalies_file = (\n",
    "        DATASET_DIR / f'{DRIVER_MAP[driver]}.txt'\n",
    "    )  # / 'anomal' / 'labels.txt'\n",
    "    assert anomalies_file.exists(), f'Anomalies file does not exist: {anomalies_file}'\n",
    "    anomalies = Anomalies.from_file(anomalies_file)\n",
    "    y_true = anomalies.to_ground_truth()\n",
    "    return y_true\n",
    "\n",
    "\n",
    "def get_anomalies(driver: str) -> Anomalies:\n",
    "    anomalies_file = (\n",
    "        DATASET_DIR / f'{DRIVER_MAP[driver]}.txt'\n",
    "    )  # / 'anomal' / 'labels.txt'\n",
    "    assert anomalies_file.exists(), f'Anomalies file does not exist: {anomalies_file}'\n",
    "    anomalies = Anomalies.from_file(anomalies_file)\n",
    "    return anomalies"
   ]
  },
  {
   "cell_type": "code",
   "execution_count": 77,
   "metadata": {},
   "outputs": [],
   "source": [
    "# Extract data\n",
    "\n",
    "all_anomalies = {driver: get_anomalies(driver) for driver in DRIVER_MAP}\n",
    "\n",
    "label_counts = Counter()\n",
    "durations = defaultdict(list)\n",
    "\n",
    "for anomalies in all_anomalies.values():\n",
    "    for anomaly in anomalies:\n",
    "        duration = anomaly.end - anomaly.start\n",
    "        for label in anomaly.labels:\n",
    "            label_counts[label] += 1\n",
    "            durations[label].append(duration)\n",
    "\n",
    "# Calculate mean and standard deviation for durations\n",
    "stats = {\n",
    "    label: (np.mean(durations[label]), np.std(durations[label])) for label in durations\n",
    "}"
   ]
  },
  {
   "cell_type": "code",
   "execution_count": 78,
   "metadata": {},
   "outputs": [],
   "source": [
    "custom_order = [\n",
    "    'only right',\n",
    "    'only left',\n",
    "    'hands off',\n",
    "    'cough',\n",
    "    'yawn',\n",
    "    'sneezing',\n",
    "    'scratch',\n",
    "    'phone',\n",
    "    'radio',\n",
    "    'eyes closed',\n",
    "    'not looking road',\n",
    "    'safety belts',\n",
    "]\n",
    "assert set(label_counts.keys()) == set(custom_order)"
   ]
  },
  {
   "cell_type": "code",
   "execution_count": 79,
   "metadata": {},
   "outputs": [],
   "source": [
    "label_renames = {\n",
    "    'only left': 'only left hand',\n",
    "    'only right': 'only right hand',\n",
    "}"
   ]
  },
  {
   "cell_type": "code",
   "execution_count": 80,
   "metadata": {},
   "outputs": [],
   "source": [
    "counts = [label_counts.get(label, 0) for label in custom_order]\n",
    "means = [stats[label][0] if label in stats else 0 for label in custom_order]\n",
    "stds = [stats[label][1] if label in stats else 0 for label in custom_order]\n",
    "labels = [label_renames.get(label, label) for label in custom_order]"
   ]
  },
  {
   "cell_type": "code",
   "execution_count": null,
   "metadata": {},
   "outputs": [],
   "source": [
    "fig, axes = plt.subplots(\n",
    "    1, 2, figsize=(12, 8), sharey=True, gridspec_kw={'wspace': 0.1}\n",
    ")\n",
    "\n",
    "# Left plot: Bar plot\n",
    "axes[0].barh(labels, counts)\n",
    "axes[0].set_xlabel('Number of Clips')\n",
    "# axes[0].set_title('Number of Anomaly Sequences per Class')\n",
    "for i, count in enumerate(counts):\n",
    "    axes[0].text(count + 0.5, i, f'{count}', va='center')\n",
    "\n",
    "# Right plot: Error bar plot\n",
    "axes[1].errorbar(\n",
    "    means,\n",
    "    labels,\n",
    "    xerr=stds,\n",
    "    fmt='o',\n",
    "    ecolor='black',\n",
    "    capsize=5,\n",
    "    capthick=2,\n",
    ")\n",
    "axes[1].set_xlabel('Clip Duration (frames)')\n",
    "# axes[1].set_title('Duration Statistics per Class')\n",
    "\n",
    "# Remove y-axis labels from the right plot\n",
    "axes[1].tick_params(labelleft=False)\n",
    "\n",
    "# plt.tight_layout()\n",
    "plt.savefig('logs/anomaly_stats.pdf', bbox_inches='tight')\n",
    "plt.show()"
   ]
  }
 ],
 "metadata": {
  "kernelspec": {
   "display_name": "torch",
   "language": "python",
   "name": "python3"
  },
  "language_info": {
   "codemirror_mode": {
    "name": "ipython",
    "version": 3
   },
   "file_extension": ".py",
   "mimetype": "text/x-python",
   "name": "python",
   "nbconvert_exporter": "python",
   "pygments_lexer": "ipython3",
   "version": "3.12.2"
  }
 },
 "nbformat": 4,
 "nbformat_minor": 2
}
