{
 "cells": [
  {
   "cell_type": "code",
   "execution_count": null,
   "metadata": {},
   "outputs": [],
   "source": [
    "%load_ext autoreload\n",
    "%autoreload 2"
   ]
  },
  {
   "cell_type": "code",
   "execution_count": 11,
   "metadata": {},
   "outputs": [],
   "source": [
    "from model.depth import convert_video_to_depth\n",
    "from model.dmd import (\n",
    "    ROOT,\n",
    "    convert_depth_images_to_video,\n",
    "    convert_frames_to_video,\n",
    "    extract_frames,\n",
    ")"
   ]
  },
  {
   "cell_type": "code",
   "execution_count": 12,
   "metadata": {},
   "outputs": [],
   "source": [
    "session = 'gA_1_s1_2019-03-08T09;31;15+01;00'\n",
    "input_video_path = ROOT / session / f'{session}_rgb_body.mp4'\n",
    "annotations_file_path = ROOT / session / f'{session}.json'\n",
    "source_type = 'rgb'"
   ]
  },
  {
   "cell_type": "code",
   "execution_count": null,
   "metadata": {},
   "outputs": [],
   "source": [
    "# Extract frames from source video based on annotations\n",
    "extract_frames(\n",
    "    input_video_path=input_video_path,\n",
    "    annotations_file_path=annotations_file_path,\n",
    "    force_overwrite=False,\n",
    "    source_type=source_type,\n",
    ")"
   ]
  },
  {
   "cell_type": "code",
   "execution_count": null,
   "metadata": {},
   "outputs": [],
   "source": [
    "# RGB frames to video (also resizes to 518x518)\n",
    "convert_frames_to_video(session, source_type=source_type, preset='slow', crf=10)"
   ]
  },
  {
   "cell_type": "code",
   "execution_count": null,
   "metadata": {},
   "outputs": [],
   "source": [
    "# Video Depth Anything\n",
    "convert_video_to_depth(session, source_type=source_type)"
   ]
  },
  {
   "cell_type": "code",
   "execution_count": 5,
   "metadata": {},
   "outputs": [],
   "source": [
    "# Visualization with a color map\n",
    "convert_depth_images_to_video(session, 'anomal', 12, extension='png', fps=30)"
   ]
  },
  {
   "cell_type": "code",
   "execution_count": null,
   "metadata": {},
   "outputs": [],
   "source": [
    "# import shutil\n",
    "\n",
    "# all_dirs = sorted(\n",
    "#     [p for p in (ROOT / session).rglob('video_depth_anything') if p.is_dir()]\n",
    "# )\n",
    "# for dir in all_dirs:\n",
    "#     shutil.rmtree(dir)\n",
    "#     print(f'Removed {dir}')"
   ]
  }
 ],
 "metadata": {
  "kernelspec": {
   "display_name": "torch",
   "language": "python",
   "name": "python3"
  },
  "language_info": {
   "codemirror_mode": {
    "name": "ipython",
    "version": 3
   },
   "file_extension": ".py",
   "mimetype": "text/x-python",
   "name": "python",
   "nbconvert_exporter": "python",
   "pygments_lexer": "ipython3",
   "version": "3.12.2"
  }
 },
 "nbformat": 4,
 "nbformat_minor": 2
}
