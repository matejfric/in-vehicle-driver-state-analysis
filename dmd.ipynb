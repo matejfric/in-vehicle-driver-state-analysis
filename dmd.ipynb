{
 "cells": [
  {
   "cell_type": "code",
   "execution_count": null,
   "metadata": {},
   "outputs": [],
   "source": [
    "%load_ext autoreload\n",
    "%autoreload 2"
   ]
  },
  {
   "cell_type": "code",
   "execution_count": null,
   "metadata": {},
   "outputs": [],
   "source": [
    "from typing import Any, Literal\n",
    "\n",
    "import cv2\n",
    "import matplotlib.pyplot as plt\n",
    "import numpy as np\n",
    "from matplotlib.ticker import FuncFormatter\n",
    "\n",
    "from model.depth import convert_video_to_depth\n",
    "from model.dmd import (\n",
    "    ROOT,\n",
    "    convert_depth_images_to_video,  # noqa F401\n",
    "    convert_frames_to_video,\n",
    "    extract_frames,\n",
    ")\n",
    "\n",
    "plt.rcParams['font.size'] = 16\n"
   ]
  },
  {
   "cell_type": "code",
   "execution_count": null,
   "metadata": {},
   "outputs": [],
   "source": [
    "session = [\n",
    "    'gA_1_s1_2019-03-08T09;31;15+01;00',\n",
    "    'gA_1_s2_2019-03-08T09;21;03+01;00',\n",
    "    'gA_1_s3_2019-03-14T14;31;08+01;00',\n",
    "][2]\n",
    "source_type: Literal['rgb', 'depth'] = 'depth'\n",
    "source_video_extension: Literal['mp4', 'avi'] = (\n",
    "    'avi' if source_type == 'depth' else 'mp4'\n",
    ")\n",
    "input_video_path = (\n",
    "    ROOT / session / f'{session}_{source_type}_body.{source_video_extension}'\n",
    ")\n",
    "annotations_file_path = ROOT / session / f'{session}.json'\n",
    "\n",
    "assert input_video_path.exists(), f'File not found: {input_video_path}'\n",
    "assert annotations_file_path.exists(), f'File not found: {annotations_file_path}'\n",
    "print(f'Input video path: {input_video_path}')\n",
    "print(f'Annotations file path: {annotations_file_path}')"
   ]
  },
  {
   "cell_type": "code",
   "execution_count": null,
   "metadata": {},
   "outputs": [],
   "source": [
    "# Extract frames from source video based on annotations\n",
    "extract_frames(\n",
    "    input_video_path=input_video_path,\n",
    "    annotations_file_path=annotations_file_path,\n",
    "    force_overwrite=False,\n",
    "    source_type=source_type,\n",
    "    skip_output_directory_setup=True,\n",
    ")"
   ]
  },
  {
   "cell_type": "code",
   "execution_count": null,
   "metadata": {},
   "outputs": [],
   "source": [
    "# RGB frames to video (also resizes to 518x518)\n",
    "convert_frames_to_video(session, source_type=source_type, preset='slow', crf=10)"
   ]
  },
  {
   "cell_type": "code",
   "execution_count": null,
   "metadata": {},
   "outputs": [],
   "source": [
    "# Video Depth Anything\n",
    "convert_video_to_depth(ROOT / session, source_type='crop_rgb')"
   ]
  },
  {
   "cell_type": "code",
   "execution_count": null,
   "metadata": {},
   "outputs": [],
   "source": [
    "# Visualization with a color map\n",
    "# convert_depth_images_to_video(\n",
    "#     session, 'anomal', 4, extension='png', fps=30, directory='video_depth_anything'\n",
    "# )"
   ]
  },
  {
   "cell_type": "code",
   "execution_count": null,
   "metadata": {},
   "outputs": [],
   "source": [
    "# import shutil\n",
    "\n",
    "# all_dirs = sorted([p for p in (ROOT / session).rglob('depth_sensor') if p.is_dir()])\n",
    "# for dir in all_dirs:\n",
    "#     shutil.rmtree(dir)\n",
    "#     print(f'Removed {dir}')"
   ]
  },
  {
   "cell_type": "markdown",
   "metadata": {},
   "source": [
    "## Intel Realsense Depth Video"
   ]
  },
  {
   "cell_type": "code",
   "execution_count": null,
   "metadata": {},
   "outputs": [],
   "source": [
    "cap = cv2.VideoCapture(str(input_video_path))\n",
    "cap.set(cv2.CAP_PROP_CONVERT_RGB, 0)  # Disable RGB conversion\n",
    "cap.set(cv2.CAP_PROP_POS_FRAMES, 653)\n",
    "ret, frame = cap.read()\n",
    "cap.release()\n",
    "\n",
    "print(frame.min(), frame.max(), frame.dtype, frame.shape)\n",
    "\n",
    "# Define the threshold (e.g. 2000 mm for 2 meters)\n",
    "depth_threshold = 2000\n",
    "\n",
    "# Clip the depth values so that any value above the threshold is set to the threshold\n",
    "# img_clipped = np.clip(frame, 0, depth_threshold)\n",
    "img_clipped = np.where(frame > depth_threshold, 0, frame)\n",
    "\n",
    "# Map the range [0, depth_threshold] to [0, 255]\n",
    "img8 = ((img_clipped / depth_threshold) * 255).astype(np.uint8)\n",
    "\n",
    "plt.figure(figsize=(11, 6))\n",
    "plt.imshow(img8, cmap='gray')\n",
    "plt.axis('off')\n",
    "plt.show()\n",
    "\n",
    "\n",
    "def tick_formatter(x: Any, pos: Any) -> str:\n",
    "    \"\"\"Formatter function that scales tick values from 0-255 to 0-2000\"\"\"\n",
    "    return f'{int(round(x * 2000 / 255))}'\n",
    "\n",
    "\n",
    "plt.figure(figsize=(12, 7))\n",
    "plt.imshow(img8, cmap=plt.cm.inferno)  # type: ignore\n",
    "\n",
    "cbar = plt.colorbar(shrink=0.75)\n",
    "cbar.ax.yaxis.set_major_formatter(FuncFormatter(tick_formatter))\n",
    "cbar.set_label('Depth (mm)', rotation=270, labelpad=30)\n",
    "\n",
    "plt.axis('off')\n",
    "plt.show()"
   ]
  },
  {
   "cell_type": "code",
   "execution_count": null,
   "metadata": {},
   "outputs": [],
   "source": [
    "extract_frames(\n",
    "    input_video_path=input_video_path,\n",
    "    annotations_file_path=annotations_file_path,\n",
    "    force_overwrite=False,\n",
    "    source_type=source_type,\n",
    "    skip_output_directory_setup=True,\n",
    ")"
   ]
  },
  {
   "cell_type": "code",
   "execution_count": null,
   "metadata": {},
   "outputs": [],
   "source": [
    "convert_depth_images_to_video(\n",
    "    session, 'normal', 1, extension='png', fps=30, directory='source_depth'\n",
    ")"
   ]
  }
 ],
 "metadata": {
  "kernelspec": {
   "display_name": "torch",
   "language": "python",
   "name": "python3"
  },
  "language_info": {
   "codemirror_mode": {
    "name": "ipython",
    "version": 3
   },
   "file_extension": ".py",
   "mimetype": "text/x-python",
   "name": "python",
   "nbconvert_exporter": "python",
   "pygments_lexer": "ipython3",
   "version": "3.12.2"
  }
 },
 "nbformat": 4,
 "nbformat_minor": 2
}
