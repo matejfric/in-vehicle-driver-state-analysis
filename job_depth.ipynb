{
 "cells": [
  {
   "cell_type": "code",
   "execution_count": 8,
   "metadata": {},
   "outputs": [],
   "source": [
    "from collections.abc import Generator\n",
    "from concurrent.futures import ThreadPoolExecutor\n",
    "from pathlib import Path\n",
    "from typing import Any, Literal\n",
    "\n",
    "import torch\n",
    "from PIL import Image\n",
    "from tqdm import tqdm\n",
    "from transformers import pipeline\n",
    "\n",
    "from model.common import crop_driver_image_contains, pad_to_square\n",
    "\n",
    "assert torch.cuda.is_available(), 'CUDA is not available'"
   ]
  },
  {
   "cell_type": "code",
   "execution_count": 9,
   "metadata": {
    "tags": [
     "parameters"
    ]
   },
   "outputs": [],
   "source": [
    "input_dir = (\n",
    "    Path().home()\n",
    "    / 'source/driver-dataset/2024-10-28-driver-all-frames/2021_08_31_geordi_enyaq/normal/images'\n",
    ")\n",
    "dataset: Literal['mrl', 'dmd'] = 'mrl'"
   ]
  },
  {
   "cell_type": "code",
   "execution_count": 10,
   "metadata": {},
   "outputs": [],
   "source": [
    "INPUT_DIR = Path(input_dir)\n",
    "OUTPUT_DIR = INPUT_DIR.parent / 'depth'\n",
    "OUTPUT_DIR.mkdir(exist_ok=True, parents=True)\n",
    "\n",
    "if dataset not in ['mrl', 'dmd']:\n",
    "    raise ValueError('Invalid dataset')\n",
    "DATASET = dataset"
   ]
  },
  {
   "cell_type": "code",
   "execution_count": 11,
   "metadata": {},
   "outputs": [],
   "source": [
    "MODEL = 'depth-anything/Depth-Anything-V2-Small-hf'\n",
    "IMAGE_PATHS = sorted((INPUT_DIR).glob('*.jpg'))\n",
    "BATCH_SIZE = 64"
   ]
  },
  {
   "cell_type": "markdown",
   "metadata": {},
   "source": [
    "## Inference on the whole dataset"
   ]
  },
  {
   "cell_type": "code",
   "execution_count": 12,
   "metadata": {},
   "outputs": [],
   "source": [
    "pipe = pipeline(task='depth-estimation', model=MODEL, device=0)"
   ]
  },
  {
   "cell_type": "code",
   "execution_count": 13,
   "metadata": {},
   "outputs": [],
   "source": [
    "def load_and_process_image(image_path: Path) -> Image.Image:\n",
    "    \"\"\"Helper function to load and process a single image.\"\"\"\n",
    "    image = Image.open(image_path)\n",
    "    # Use default inference resize (https://github.com/DepthAnything/Depth-Anything-V2)\n",
    "    if DATASET == 'mrl':\n",
    "        processed_image = crop_driver_image_contains(image, image_path).resize(\n",
    "            (518, 518)\n",
    "        )\n",
    "    elif DATASET == 'dmd':\n",
    "        processed_image = pad_to_square(image).resize((518, 518))\n",
    "        # TODO: Alternative - just resize (distort): image.resize((518, 518))\n",
    "    return processed_image\n",
    "\n",
    "\n",
    "def dataset_batched(\n",
    "    batch_size: int = 32,\n",
    ") -> Generator[tuple[list[Image.Image], list[Path]]]:\n",
    "    with ThreadPoolExecutor() as executor:\n",
    "        for i in range(0, len(IMAGE_PATHS), batch_size):\n",
    "            image_paths_batch = IMAGE_PATHS[i : i + batch_size]\n",
    "            images = list(executor.map(load_and_process_image, image_paths_batch))\n",
    "            yield images, image_paths_batch\n",
    "\n",
    "\n",
    "def save_image(depth_img: Image.Image, export_path: Path) -> None:\n",
    "    depth_img.save(export_path)\n",
    "\n",
    "\n",
    "def save_images(results: Any, paths: list[Path]) -> None:\n",
    "    depth_images = [res['depth'] for res in results]  # type: ignore\n",
    "\n",
    "    for depth_img, path in zip(depth_images, paths):\n",
    "        export_path = path.parent.parent / 'depth' / path.with_suffix('.png').name\n",
    "        save_image(depth_img, export_path)  # type: ignore"
   ]
  },
  {
   "cell_type": "code",
   "execution_count": 14,
   "metadata": {},
   "outputs": [
    {
     "name": "stderr",
     "output_type": "stream",
     "text": [
      "Generating depth images:   0%|          | 0/27000 [00:00<?, ?it/s]"
     ]
    },
    {
     "name": "stderr",
     "output_type": "stream",
     "text": [
      "Generating depth images: 27008it [10:56, 41.14it/s]                           \n"
     ]
    }
   ],
   "source": [
    "# ~41 FPS with 64 batch size\n",
    "executor = ThreadPoolExecutor()\n",
    "\n",
    "with tqdm(total=len(IMAGE_PATHS), desc='Generating depth images') as pbar:\n",
    "    for images, paths in dataset_batched(batch_size=BATCH_SIZE):\n",
    "        results = pipe(images)\n",
    "        pbar.update(BATCH_SIZE)\n",
    "        executor.submit(save_images, results, paths)\n",
    "\n",
    "executor.shutdown(wait=True)"
   ]
  }
 ],
 "metadata": {
  "kernelspec": {
   "display_name": "torch",
   "language": "python",
   "name": "python3"
  },
  "language_info": {
   "codemirror_mode": {
    "name": "ipython",
    "version": 3
   },
   "file_extension": ".py",
   "mimetype": "text/x-python",
   "name": "python",
   "nbconvert_exporter": "python",
   "pygments_lexer": "ipython3",
   "version": "3.12.2"
  }
 },
 "nbformat": 4,
 "nbformat_minor": 2
}
