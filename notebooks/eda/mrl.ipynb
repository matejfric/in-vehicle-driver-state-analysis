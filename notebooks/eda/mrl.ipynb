{
 "cells": [
  {
   "cell_type": "markdown",
   "metadata": {},
   "source": [
    "# MRL Driver Dataset EDA"
   ]
  },
  {
   "cell_type": "code",
   "execution_count": null,
   "metadata": {},
   "outputs": [],
   "source": [
    "%load_ext autoreload\n",
    "%autoreload 2"
   ]
  },
  {
   "cell_type": "code",
   "execution_count": null,
   "metadata": {},
   "outputs": [],
   "source": [
    "from collections import Counter, defaultdict\n",
    "from pathlib import Path\n",
    "\n",
    "import matplotlib.pyplot as plt\n",
    "import numpy as np\n",
    "import pandas as pd\n",
    "\n",
    "from model.common import MRL_DRIVER_MAPPING, MRL_DRIVER_NAMES_MAPPING, Anomalies\n",
    "from model.fonts import set_cmu_serif_font"
   ]
  },
  {
   "cell_type": "code",
   "execution_count": null,
   "metadata": {},
   "outputs": [],
   "source": [
    "plt.style.use('seaborn-v0_8-whitegrid')\n",
    "font = set_cmu_serif_font()\n",
    "plt.rcParams.update({'font.size': 22})"
   ]
  },
  {
   "cell_type": "code",
   "execution_count": null,
   "metadata": {},
   "outputs": [],
   "source": [
    "DRIVER_MAP = {\n",
    "    'geordi': '2021_08_31_geordi_enyaq',\n",
    "    'poli': '2021_09_06_poli_enyaq',\n",
    "    'michal': '2021_11_05_michal_enyaq',\n",
    "    'dans': '2021_11_18_dans_enyaq',\n",
    "    'jakubh': '2021_11_18_jakubh_enyaq',\n",
    "}\n",
    "\n",
    "DATASET_DIR = Path().cwd().parent.parent / 'annotations'\n",
    "assert DATASET_DIR.exists()\n",
    "\n",
    "OUTPUT_DIR = Path('outputs')\n",
    "OUTPUT_DIR.mkdir(exist_ok=True)"
   ]
  },
  {
   "cell_type": "markdown",
   "metadata": {},
   "source": [
    "## Ground Truth\n",
    "\n",
    "This section uses annotation files that were updated to share common names for the same classes. These annotations were not used when evaluating the models to ensure consistency with previous publications."
   ]
  },
  {
   "cell_type": "code",
   "execution_count": null,
   "metadata": {},
   "outputs": [],
   "source": [
    "def get_anomalies(driver: str) -> Anomalies:\n",
    "    anomalies_file = DATASET_DIR / f'{MRL_DRIVER_MAPPING[DRIVER_MAP[driver]]}.txt'\n",
    "    assert anomalies_file.exists(), f'Anomalies file does not exist: {anomalies_file}'\n",
    "    anomalies = Anomalies.from_file(anomalies_file, load_video_lengths=False)\n",
    "    return anomalies"
   ]
  },
  {
   "cell_type": "code",
   "execution_count": null,
   "metadata": {},
   "outputs": [],
   "source": [
    "# Extract data\n",
    "\n",
    "all_anomalies = {driver: get_anomalies(driver) for driver in DRIVER_MAP}\n",
    "\n",
    "label_counts = Counter()\n",
    "durations = defaultdict(list)\n",
    "\n",
    "for anomalies in all_anomalies.values():\n",
    "    for anomaly in anomalies:\n",
    "        duration = anomaly.end - anomaly.start\n",
    "        for label in anomaly.labels:\n",
    "            label_counts[label] += 1\n",
    "            durations[label].append(duration)\n",
    "\n",
    "# Calculate mean and standard deviation for durations\n",
    "stats = {\n",
    "    label: (np.mean(durations[label]), np.std(durations[label])) for label in durations\n",
    "}"
   ]
  },
  {
   "cell_type": "code",
   "execution_count": null,
   "metadata": {},
   "outputs": [],
   "source": [
    "custom_order = [\n",
    "    'only right',\n",
    "    'only left',\n",
    "    'hands off',\n",
    "    'cough',\n",
    "    'yawn',\n",
    "    'sneezing',\n",
    "    'scratch',\n",
    "    'phone',\n",
    "    'radio',\n",
    "    'eyes closed',\n",
    "    'not looking road',\n",
    "    'safety belts',\n",
    "]\n",
    "assert set(label_counts.keys()) == set(custom_order)"
   ]
  },
  {
   "cell_type": "code",
   "execution_count": null,
   "metadata": {},
   "outputs": [],
   "source": [
    "label_renames = {\n",
    "    'only left': 'only left hand',\n",
    "    'only right': 'only right hand',\n",
    "}"
   ]
  },
  {
   "cell_type": "code",
   "execution_count": null,
   "metadata": {},
   "outputs": [],
   "source": [
    "counts = [label_counts.get(label, 0) for label in custom_order]\n",
    "means = [stats[label][0] if label in stats else 0 for label in custom_order]\n",
    "stds = [stats[label][1] if label in stats else 0 for label in custom_order]\n",
    "labels = [label_renames.get(label, label) for label in custom_order]"
   ]
  },
  {
   "cell_type": "code",
   "execution_count": null,
   "metadata": {},
   "outputs": [],
   "source": [
    "fig, axes = plt.subplots(\n",
    "    1, 2, figsize=(12, 8), sharey=True, gridspec_kw={'wspace': 0.1}\n",
    ")\n",
    "\n",
    "# Left plot: Bar plot\n",
    "axes[0].barh(labels, counts)\n",
    "axes[0].set_xlabel('Number of Clips')\n",
    "for i, count in enumerate(counts):\n",
    "    axes[0].text(count + 0.5, i, f'{count}', va='center')\n",
    "axes[0].set_xlim(0, max(counts) + 20)  # Add some padding\n",
    "axes[0].set_xticks(range(0, 126, 25))\n",
    "\n",
    "# Right plot: Error bar plot\n",
    "axes[1].errorbar(\n",
    "    means,\n",
    "    labels,\n",
    "    xerr=stds,\n",
    "    fmt='o',\n",
    "    ecolor='black',\n",
    "    capsize=5,\n",
    "    capthick=2,\n",
    ")\n",
    "axes[1].set_xlabel('Clip Duration (frames)')\n",
    "axes[1].set_xticks(range(0, 801, 200))\n",
    "\n",
    "# Remove y-axis labels from the right plot\n",
    "axes[1].tick_params(labelleft=False)\n",
    "\n",
    "plt.savefig(OUTPUT_DIR / 'anomaly_stats.pdf', bbox_inches='tight')\n",
    "plt.show()"
   ]
  },
  {
   "cell_type": "markdown",
   "metadata": {},
   "source": [
    "## Intel RealSense L515"
   ]
  },
  {
   "cell_type": "code",
   "execution_count": null,
   "metadata": {},
   "outputs": [],
   "source": [
    "import copy\n",
    "from pathlib import Path\n",
    "\n",
    "import cv2 as cv\n",
    "import matplotlib.pyplot as plt\n",
    "import numpy as np\n",
    "\n",
    "from model.common import convert_depth_images_to_video, preprocess_515_cv"
   ]
  },
  {
   "cell_type": "code",
   "execution_count": null,
   "metadata": {},
   "outputs": [],
   "source": [
    "source = (\n",
    "    Path.home()\n",
    "    / 'source/driver-dataset/2024-10-28-driver-all-frames/2024_07_02_radovan_enyaq/anomal_181149/depth'\n",
    ")\n",
    "convert_depth_images_to_video(source, fps=30, limit=1000)"
   ]
  },
  {
   "cell_type": "code",
   "execution_count": null,
   "metadata": {},
   "outputs": [],
   "source": [
    "source = (\n",
    "    Path.home()\n",
    "    / 'source/driver-dataset/2024-10-28-driver-all-frames/2024_07_02_radovan_enyaq/normal/depth_realsense'\n",
    ")\n",
    "\n",
    "img = cv.imread(str(source / 's0_depth_0100.png'), cv.IMREAD_UNCHANGED)\n",
    "img = np.array(img, dtype=np.uint16)\n",
    "img = (img / np.iinfo(np.uint16).max).astype(np.float32)\n",
    "\n",
    "opening = preprocess_515_cv(copy.deepcopy(img), 7)\n",
    "opening = cv.resize(opening, (512, 512), interpolation=cv.INTER_AREA)\n",
    "cv.imwrite('outputs/realsense_515_opening.png', opening * 255)\n",
    "plt.imshow(opening, cmap='gray')\n",
    "plt.show()\n",
    "\n",
    "img_prep = preprocess_515_cv(img)\n",
    "img_prep = cv.resize(img_prep, (512, 512), interpolation=cv.INTER_AREA)\n",
    "cv.imwrite('outputs/realsense_515.png', img_prep * 255)\n",
    "plt.imshow(img_prep, cmap='gray')\n",
    "plt.show()"
   ]
  },
  {
   "cell_type": "markdown",
   "metadata": {},
   "source": [
    "## Number of Samples in Train-Test Split"
   ]
  },
  {
   "cell_type": "code",
   "execution_count": null,
   "metadata": {},
   "outputs": [],
   "source": [
    "ROOT = Path.home() / 'source/driver-dataset/2024-10-28-driver-all-frames'\n",
    "driver_data = {}\n",
    "for driver_dir in ROOT.glob('*'):\n",
    "    driver_name = driver_dir.name.split('_')[-2]\n",
    "    if driver_name not in DRIVER_MAP:\n",
    "        continue\n",
    "    driver_id = MRL_DRIVER_NAMES_MAPPING[driver_name]\n",
    "    train = len(list((driver_dir / 'normal' / 'images').glob('*.jpg')))\n",
    "    annotations = Anomalies.from_file(driver_dir / 'anomal' / 'labels.txt')\n",
    "    gt = np.array(annotations.to_ground_truth())\n",
    "    test_normal = len(gt[gt == 0])\n",
    "    test_anomal = len(gt[gt == 1])\n",
    "    driver_data[f'Driver {driver_id}'] = (train, test_normal, test_anomal)"
   ]
  },
  {
   "cell_type": "code",
   "execution_count": null,
   "metadata": {},
   "outputs": [],
   "source": [
    "df = pd.DataFrame(\n",
    "    driver_data,\n",
    "    index=['Train samples', 'Test negative samples', 'Test positive samples'],\n",
    ")\n",
    "df = df[[f'Driver {n}' for n in [1, 2, 4, 5, 6]]]\n",
    "df.head()"
   ]
  },
  {
   "cell_type": "code",
   "execution_count": null,
   "metadata": {},
   "outputs": [],
   "source": [
    "output_dir = Path('outputs')\n",
    "output_dir.mkdir(exist_ok=True)\n",
    "caption = 'Train-test split for the MRL Driver dataset.'\n",
    "df.to_latex(\n",
    "    output_dir / 'mrl_stats.tex',\n",
    "    index=True,\n",
    "    caption=(caption, caption.removesuffix('.')),\n",
    "    label='tab:mrl-stats',\n",
    "    position='htb',\n",
    ")"
   ]
  }
 ],
 "metadata": {
  "kernelspec": {
   "display_name": "torch",
   "language": "python",
   "name": "python3"
  },
  "language_info": {
   "codemirror_mode": {
    "name": "ipython",
    "version": 3
   },
   "file_extension": ".py",
   "mimetype": "text/x-python",
   "name": "python",
   "nbconvert_exporter": "python",
   "pygments_lexer": "ipython3",
   "version": "3.12.2"
  }
 },
 "nbformat": 4,
 "nbformat_minor": 2
}
