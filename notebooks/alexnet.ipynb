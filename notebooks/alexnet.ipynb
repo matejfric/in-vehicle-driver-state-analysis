{
 "cells": [
  {
   "cell_type": "code",
   "execution_count": 28,
   "metadata": {},
   "outputs": [],
   "source": [
    "import torch\n",
    "import torch.nn as nn\n",
    "import torch.nn.functional as F\n",
    "import torch.optim"
   ]
  },
  {
   "cell_type": "code",
   "execution_count": null,
   "metadata": {},
   "outputs": [],
   "source": [
    "class MyAlexNet(nn.Module):\n",
    "    def __init__(\n",
    "        self,\n",
    "        image_size: int = 224,\n",
    "        image_channels: int = 3,\n",
    "        num_classes: int = 43,\n",
    "    ) -> None:\n",
    "        super().__init__()\n",
    "        self.input_size = (image_channels, image_size, image_size)\n",
    "        self.conv1 = nn.Conv2d(image_channels, 96, kernel_size=11, stride=4)\n",
    "        self.pool1 = nn.MaxPool2d(kernel_size=3, stride=2)\n",
    "        self.conv2 = nn.LazyConv2d(256, kernel_size=5, padding=2)\n",
    "        self.pool2 = nn.MaxPool2d(kernel_size=3, stride=2)\n",
    "        self.conv3 = nn.LazyConv2d(384, kernel_size=3, padding=1)\n",
    "        self.conv4 = nn.LazyConv2d(384, kernel_size=3, padding=1)\n",
    "        self.conv5 = nn.LazyConv2d(256, kernel_size=3, padding=1)\n",
    "        self.pool3 = nn.MaxPool2d(kernel_size=3, stride=2)\n",
    "        self.flatten = nn.Flatten()\n",
    "        self.fc1 = nn.LazyLinear(4096)\n",
    "        self.fc2 = nn.LazyLinear(4096)\n",
    "        self.fc3 = nn.LazyLinear(num_classes)\n",
    "\n",
    "    def forward(self, x: torch.Tensor) -> torch.Tensor:\n",
    "        print(f'input: {x.shape}')\n",
    "        x = F.relu(self.conv1(x))\n",
    "        print(f'conv1: {x.shape}')\n",
    "        x = self.pool1(x)\n",
    "        print(f'pool1: {x.shape}')\n",
    "        x = F.relu(self.conv2(x))\n",
    "        print(f'conv2: {x.shape}')\n",
    "        x = self.pool2(x)\n",
    "        print(f'pool2: {x.shape}')\n",
    "        x = F.relu(self.conv3(x))\n",
    "        print(f'conv3: {x.shape}')\n",
    "        x = F.relu(self.conv4(x))\n",
    "        print(f'conv4: {x.shape}')\n",
    "        x = self.pool3(x)\n",
    "        print(f'pool3: {x.shape}')\n",
    "        x = F.relu(self.conv5(x))\n",
    "        print(f'conv5: {x.shape}')\n",
    "        x = self.flatten(x)\n",
    "        print(f'flatten: {x.shape}')\n",
    "        x = F.relu(self.fc1(x))\n",
    "        print(f'fc1: {x.shape}')\n",
    "        x = F.relu(self.fc2(x))\n",
    "        print(f'fc2: {x.shape}')\n",
    "        x = self.fc3(x)\n",
    "        print(f'fc3: {x.shape}')\n",
    "        return x\n",
    "\n",
    "    def summary(self) -> None:\n",
    "        try:\n",
    "            from torchinfo import summary\n",
    "\n",
    "            return summary(self, (1, *self.input_size), device='cpu')\n",
    "        except Exception as e:\n",
    "            print(f'Error: {e}')\n",
    "            print(self)"
   ]
  },
  {
   "cell_type": "code",
   "execution_count": 30,
   "metadata": {},
   "outputs": [
    {
     "name": "stdout",
     "output_type": "stream",
     "text": [
      "input: torch.Size([1, 3, 224, 224])\n",
      "conv1: torch.Size([1, 96, 54, 54])\n",
      "pool1: torch.Size([1, 96, 26, 26])\n",
      "conv2: torch.Size([1, 256, 26, 26])\n",
      "pool2: torch.Size([1, 256, 12, 12])\n",
      "conv3: torch.Size([1, 384, 12, 12])\n",
      "conv4: torch.Size([1, 384, 12, 12])\n",
      "pool3: torch.Size([1, 384, 5, 5])\n",
      "conv5: torch.Size([1, 256, 5, 5])\n",
      "flatten: torch.Size([1, 6400])\n",
      "fc1: torch.Size([1, 4096])\n",
      "fc2: torch.Size([1, 4096])\n",
      "fc3: torch.Size([1, 43])\n"
     ]
    },
    {
     "data": {
      "text/plain": [
       "==========================================================================================\n",
       "Layer (type:depth-idx)                   Output Shape              Param #\n",
       "==========================================================================================\n",
       "MyAlexNet                                [1, 43]                   --\n",
       "├─Conv2d: 1-1                            [1, 96, 54, 54]           34,944\n",
       "├─MaxPool2d: 1-2                         [1, 96, 26, 26]           --\n",
       "├─Conv2d: 1-3                            [1, 256, 26, 26]          614,656\n",
       "├─MaxPool2d: 1-4                         [1, 256, 12, 12]          --\n",
       "├─Conv2d: 1-5                            [1, 384, 12, 12]          885,120\n",
       "├─Conv2d: 1-6                            [1, 384, 12, 12]          1,327,488\n",
       "├─MaxPool2d: 1-7                         [1, 384, 5, 5]            --\n",
       "├─Conv2d: 1-8                            [1, 256, 5, 5]            884,992\n",
       "├─Flatten: 1-9                           [1, 6400]                 --\n",
       "├─Linear: 1-10                           [1, 4096]                 26,218,496\n",
       "├─Linear: 1-11                           [1, 4096]                 16,781,312\n",
       "├─Linear: 1-12                           [1, 43]                   176,171\n",
       "==========================================================================================\n",
       "Total params: 46,923,179\n",
       "Trainable params: 46,923,179\n",
       "Non-trainable params: 0\n",
       "Total mult-adds (Units.MEGABYTES): 901.32\n",
       "==========================================================================================\n",
       "Input size (MB): 0.60\n",
       "Forward/backward pass size (MB): 4.63\n",
       "Params size (MB): 187.69\n",
       "Estimated Total Size (MB): 192.92\n",
       "=========================================================================================="
      ]
     },
     "execution_count": 30,
     "metadata": {},
     "output_type": "execute_result"
    }
   ],
   "source": [
    "x = torch.randn(1, 3, 224, 224)\n",
    "model = MyAlexNet()\n",
    "model.summary()"
   ]
  }
 ],
 "metadata": {
  "kernelspec": {
   "display_name": "torch",
   "language": "python",
   "name": "python3"
  },
  "language_info": {
   "codemirror_mode": {
    "name": "ipython",
    "version": 3
   },
   "file_extension": ".py",
   "mimetype": "text/x-python",
   "name": "python",
   "nbconvert_exporter": "python",
   "pygments_lexer": "ipython3",
   "version": "3.12.2"
  }
 },
 "nbformat": 4,
 "nbformat_minor": 2
}
