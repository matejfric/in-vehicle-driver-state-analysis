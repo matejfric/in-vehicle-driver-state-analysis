{
 "cells": [
  {
   "cell_type": "code",
   "execution_count": null,
   "metadata": {},
   "outputs": [],
   "source": [
    "from pathlib import Path\n",
    "\n",
    "import pandas as pd\n",
    "\n",
    "pd.set_option('display.max_columns', 100)"
   ]
  },
  {
   "cell_type": "code",
   "execution_count": null,
   "metadata": {},
   "outputs": [],
   "source": [
    "REPO_ROOT = Path.cwd().parent.parent\n",
    "runs_path = REPO_ROOT / 'outputs/runs-sem-seg.csv'\n",
    "assert runs_path.exists(), f'Runs not found: {runs_path}'"
   ]
  },
  {
   "cell_type": "code",
   "execution_count": null,
   "metadata": {},
   "outputs": [],
   "source": [
    "df = pd.read_csv(runs_path)\n",
    "df['Start Time'] = pd.to_datetime(df['Start Time'])\n",
    "df.head()"
   ]
  },
  {
   "cell_type": "code",
   "execution_count": null,
   "metadata": {},
   "outputs": [],
   "source": [
    "df_sel = df[\n",
    "    (df['Start Time'] >= pd.to_datetime('2025-02-28-08', format='%Y-%m-%d-%H'))\n",
    "    & (df['Start Time'] < pd.to_datetime('2025-03-01'))\n",
    "].copy()\n",
    "df_sel"
   ]
  },
  {
   "cell_type": "code",
   "execution_count": null,
   "metadata": {},
   "outputs": [],
   "source": [
    "# Fill missing decoder/encoder parameters:\n",
    "# -unet & enet-b0 (4007548, 2243776)\n",
    "# -unet++ & enet-b0 (4007548, 2561888)\n",
    "\n",
    "df_sel['encoder_params'] = df_sel['encoder_params'].fillna(4007548)\n",
    "df_sel.loc[\n",
    "    df_sel['decoder_params'].isna() & (df_sel['decoder'] == 'unet'), 'decoder_params'\n",
    "] = 2243776\n",
    "df_sel.loc[\n",
    "    df_sel['decoder_params'].isna() & (df_sel['decoder'] == 'unetplusplus'),\n",
    "    'decoder_params',\n",
    "] = 2561888"
   ]
  },
  {
   "cell_type": "code",
   "execution_count": null,
   "metadata": {},
   "outputs": [],
   "source": [
    "PARAMS_COLUMNS = ['encoder_params', 'decoder_params']\n",
    "METRICS_COLUMS = [\n",
    "    'test_f1_score',\n",
    "    'test_jaccard_index',\n",
    "    'test_f1_score',\n",
    "    'test_jaccard_index',\n",
    "]\n",
    "MODEL_COLUMNS = ['encoder', 'decoder']"
   ]
  },
  {
   "cell_type": "code",
   "execution_count": null,
   "metadata": {},
   "outputs": [],
   "source": [
    "df_table = df_sel[MODEL_COLUMNS + PARAMS_COLUMNS + METRICS_COLUMS].copy()\n",
    "df_table[PARAMS_COLUMNS] = df_table[PARAMS_COLUMNS].div(1e6).round(1)\n",
    "df_table['decoder'] = df_table['decoder'].replace(\n",
    "    {'unet': 'U-Net', 'unetplusplus': 'UNet++'}\n",
    ")\n",
    "df_table['encoder'] = (\n",
    "    df_table['encoder']\n",
    "    .str.replace('efficientnet-b', 'EfficientNet-B')\n",
    "    .replace('resnet', 'ResNet')\n",
    ")\n",
    "df_table['encoder'] = df_table['encoder'].str.replace('resnet', 'ResNet')\n",
    "df_table[PARAMS_COLUMNS] = df_table[PARAMS_COLUMNS].astype(str)\n",
    "df_table['encoder'] += ' (' + df_table['encoder_params'] + 'M)'\n",
    "df_table['decoder'] += ' (' + df_table['decoder_params'] + 'M)'\n",
    "\n",
    "df_export = df_table.drop(columns=PARAMS_COLUMNS).sort_values(\n",
    "    by=['encoder', 'decoder'], ascending=True\n",
    ")\n",
    "df_export.columns = pd.MultiIndex.from_tuples(\n",
    "    [\n",
    "        (arch := 'Architecture', 'Decoder (\\\\#params)'),\n",
    "        (arch, 'Encoder (\\\\#params)'),\n",
    "        (test_set := 'Test set', 'F1 score'),\n",
    "        (test_set, 'IoU'),\n",
    "        (val_set := 'Validation set', 'F1 score'),\n",
    "        (val_set, 'IoU'),\n",
    "    ]\n",
    ")\n",
    "df_export"
   ]
  },
  {
   "cell_type": "code",
   "execution_count": null,
   "metadata": {},
   "outputs": [],
   "source": [
    "# https://pandas.pydata.org/docs/reference/api/pandas.DataFrame.to_latex.html\n",
    "df_export.to_latex(\n",
    "    'table-sem-seg-results.tex',\n",
    "    index=False,\n",
    "    float_format='%.4f',\n",
    "    multicolumn_format='c',\n",
    "    caption='Best performing models.',\n",
    "    label='tab:sem-seg-results',\n",
    "    position='htbp',\n",
    ")"
   ]
  }
 ],
 "metadata": {
  "kernelspec": {
   "display_name": "torch",
   "language": "python",
   "name": "python3"
  },
  "language_info": {
   "codemirror_mode": {
    "name": "ipython",
    "version": 3
   },
   "file_extension": ".py",
   "mimetype": "text/x-python",
   "name": "python",
   "nbconvert_exporter": "python",
   "pygments_lexer": "ipython3",
   "version": "3.12.2"
  }
 },
 "nbformat": 4,
 "nbformat_minor": 2
}
