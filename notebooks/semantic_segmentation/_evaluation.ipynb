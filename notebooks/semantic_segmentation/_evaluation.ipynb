{
 "cells": [
  {
   "cell_type": "markdown",
   "metadata": {},
   "source": [
    "# Evaluation Script to Compare Semantic Segmentation Models"
   ]
  },
  {
   "cell_type": "code",
   "execution_count": null,
   "metadata": {},
   "outputs": [],
   "source": [
    "%load_ext autoreload\n",
    "%autoreload 2"
   ]
  },
  {
   "cell_type": "code",
   "execution_count": null,
   "metadata": {},
   "outputs": [],
   "source": [
    "from pathlib import Path\n",
    "from pprint import pprint\n",
    "\n",
    "import dagshub\n",
    "import pandas as pd\n",
    "from mlflow.client import MlflowClient\n",
    "\n",
    "from model.mlflow import download_all_runs"
   ]
  },
  {
   "cell_type": "code",
   "execution_count": null,
   "metadata": {},
   "outputs": [],
   "source": [
    "REPO_NAME = 'driver-seg'\n",
    "USER_NAME = 'matejfric'\n",
    "dagshub.init(REPO_NAME, USER_NAME, mlflow=True)  # type: ignore\n",
    "\n",
    "pd.set_option('display.max_columns', None)\n",
    "\n",
    "client = MlflowClient()\n",
    "\n",
    "OUTPUT_DIR = Path('outputs')\n",
    "OUTPUT_DIR.mkdir(exist_ok=True)"
   ]
  },
  {
   "cell_type": "code",
   "execution_count": null,
   "metadata": {},
   "outputs": [],
   "source": [
    "experiments = client.search_experiments()\n",
    "pprint([experiment.name for experiment in experiments])"
   ]
  },
  {
   "cell_type": "code",
   "execution_count": null,
   "metadata": {},
   "outputs": [],
   "source": [
    "runs_df = download_all_runs(client=client, experiments=experiments)\n",
    "\n",
    "# Display the DataFrame\n",
    "print(f'Total runs: {len(runs_df)}')\n",
    "runs_df.head()"
   ]
  },
  {
   "cell_type": "code",
   "execution_count": null,
   "metadata": {},
   "outputs": [],
   "source": [
    "df_sel = runs_df[\n",
    "    (runs_df['tag.Dataset'] == '2025-04-23-driver-segmentation-dataset')\n",
    "    & (runs_df['image_size'] == '224')\n",
    "].copy()\n",
    "print(f'Selected runs: {len(df_sel)}')\n",
    "df_sel.head()"
   ]
  },
  {
   "cell_type": "markdown",
   "metadata": {},
   "source": [
    "## Test Set and Validation Set"
   ]
  },
  {
   "cell_type": "code",
   "execution_count": null,
   "metadata": {},
   "outputs": [],
   "source": [
    "PARAMS_COLUMNS = ['encoder_params', 'decoder_params']\n",
    "METRICS_COLUMS = [\n",
    "    'metric.test_jaccard_index',\n",
    "    'metric.test_f1_score',\n",
    "    'metric.valid_jaccard_index',\n",
    "    'metric.valid_f1_score',\n",
    "]\n",
    "MODEL_COLUMNS = ['encoder', 'decoder']"
   ]
  },
  {
   "cell_type": "code",
   "execution_count": null,
   "metadata": {},
   "outputs": [],
   "source": [
    "df_table = (\n",
    "    df_sel[MODEL_COLUMNS + PARAMS_COLUMNS + METRICS_COLUMS].copy().drop_duplicates()\n",
    ")\n",
    "df_table[PARAMS_COLUMNS] = df_table[PARAMS_COLUMNS].astype(float).div(1e6).round(1)\n",
    "df_table['decoder'] = df_table['decoder'].replace(\n",
    "    {'unet': 'U-Net', 'unetplusplus': 'UNet++'}\n",
    ")\n",
    "df_table['encoder'] = df_table['encoder'].str.replace(\n",
    "    'efficientnet-b', 'EfficientNet-B'\n",
    ")\n",
    "df_table['encoder'] = df_table['encoder'].str.replace('resnet', 'ResNet')\n",
    "df_table['encoder'] = df_table['encoder'].str.replace('mit_b', 'MixViT-B')\n",
    "df_table[PARAMS_COLUMNS] = df_table[PARAMS_COLUMNS].astype(str)\n",
    "df_table['encoder'] += ' (' + df_table['encoder_params'] + 'M)'\n",
    "df_table['decoder'] += ' (' + df_table['decoder_params'] + 'M)'\n",
    "\n",
    "df_export = df_table.drop(columns=PARAMS_COLUMNS).sort_values(\n",
    "    by=['encoder', 'decoder'], ascending=True\n",
    ")\n",
    "df_export.columns = pd.MultiIndex.from_tuples(\n",
    "    [\n",
    "        (arch := 'Architecture', 'Encoder (\\\\#params)'),\n",
    "        (arch, 'Decoder (\\\\#params)'),\n",
    "        (test_set := 'Test set', 'IoU'),\n",
    "        (test_set, 'F1 score'),\n",
    "        (val_set := 'Validation set', 'IoU'),\n",
    "        (val_set, 'F1 score'),\n",
    "    ]\n",
    ")"
   ]
  },
  {
   "cell_type": "code",
   "execution_count": null,
   "metadata": {},
   "outputs": [],
   "source": [
    "df_export.sort_values(\n",
    "    by=[(test_set, 'IoU'), (test_set, 'F1 score')],  # type: ignore\n",
    "    ascending=False,\n",
    "    inplace=True,\n",
    ")\n",
    "df_export"
   ]
  },
  {
   "cell_type": "code",
   "execution_count": null,
   "metadata": {},
   "outputs": [],
   "source": [
    "df_export.to_latex(\n",
    "    OUTPUT_DIR / 'table-sem-seg-results.tex',\n",
    "    index=False,\n",
    "    float_format='%.4f',\n",
    "    multicolumn_format='c',\n",
    "    column_format='r' * len(df_export.columns),\n",
    "    caption=(\n",
    "        'Performance comparison of semantic segmentation models on test and validation sets for different encoder-decoder combinations. Sorted by test set performance.',\n",
    "        'Performance comparison of semantic segmentation models',\n",
    "    ),\n",
    "    label='tab:sem-seg-results',\n",
    "    position='t',\n",
    ")"
   ]
  },
  {
   "cell_type": "markdown",
   "metadata": {},
   "source": [
    "## Test Set With Precision and Recall"
   ]
  },
  {
   "cell_type": "code",
   "execution_count": null,
   "metadata": {},
   "outputs": [],
   "source": [
    "METRICS_COLUMS = [\n",
    "    'metric.test_jaccard_index',\n",
    "    'metric.test_f1_score',\n",
    "    'metric.test_precision',\n",
    "    'metric.test_recall',\n",
    "]\n",
    "df_table = (\n",
    "    df_sel[MODEL_COLUMNS + PARAMS_COLUMNS + METRICS_COLUMS].copy().drop_duplicates()\n",
    ")\n",
    "df_table[PARAMS_COLUMNS] = df_table[PARAMS_COLUMNS].astype(float).div(1e6).round(1)\n",
    "df_table['decoder'] = df_table['decoder'].replace(\n",
    "    {'unet': 'U-Net', 'unetplusplus': 'UNet++'}\n",
    ")\n",
    "df_table['encoder'] = df_table['encoder'].str.replace(\n",
    "    'efficientnet-b', 'EfficientNet-B'\n",
    ")\n",
    "df_table['encoder'] = df_table['encoder'].str.replace('resnet', 'ResNet')\n",
    "df_table['encoder'] = df_table['encoder'].str.replace('mit_b', 'MixViT-B')\n",
    "df_table[PARAMS_COLUMNS] = df_table[PARAMS_COLUMNS].astype(str)\n",
    "df_table['encoder'] += ' (' + df_table['encoder_params'] + 'M)'\n",
    "df_table['decoder'] += ' (' + df_table['decoder_params'] + 'M)'\n",
    "\n",
    "df_export = df_table.drop(columns=PARAMS_COLUMNS).sort_values(\n",
    "    by=['encoder', 'decoder'], ascending=True\n",
    ")\n",
    "df_export.columns = pd.MultiIndex.from_tuples(\n",
    "    [\n",
    "        (arch := 'Architecture', 'Encoder (\\\\#params)'),\n",
    "        (arch, 'Decoder (\\\\#params)'),\n",
    "        (test_set := 'Test set', 'IoU'),\n",
    "        (test_set, 'F1 score'),\n",
    "        (test_set, 'Precision'),\n",
    "        (test_set, 'Recall'),\n",
    "    ]\n",
    ")\n",
    "df_export.sort_values(\n",
    "    by=[(test_set, 'IoU'), (test_set, 'F1 score')],  # type: ignore\n",
    "    ascending=False,\n",
    "    inplace=True,\n",
    ")\n",
    "df_export"
   ]
  },
  {
   "cell_type": "code",
   "execution_count": null,
   "metadata": {},
   "outputs": [],
   "source": [
    "df_export.to_latex(\n",
    "    OUTPUT_DIR / 'table-sem-seg-results-pr.tex',\n",
    "    index=False,\n",
    "    float_format='%.4f',\n",
    "    multicolumn_format='c',\n",
    "    column_format='r' * len(df_export.columns),\n",
    "    caption=(\n",
    "        'Performance comparison of semantic segmentation models on the test set, ranked by IoU, for different encoder-decoder combinations.',\n",
    "        'Performance comparison of semantic segmentation models',\n",
    "    ),\n",
    "    label='tab:sem-seg-results',\n",
    "    position='t',\n",
    ")"
   ]
  }
 ],
 "metadata": {
  "kernelspec": {
   "display_name": "torch",
   "language": "python",
   "name": "python3"
  },
  "language_info": {
   "codemirror_mode": {
    "name": "ipython",
    "version": 3
   },
   "file_extension": ".py",
   "mimetype": "text/x-python",
   "name": "python",
   "nbconvert_exporter": "python",
   "pygments_lexer": "ipython3",
   "version": "3.12.2"
  }
 },
 "nbformat": 4,
 "nbformat_minor": 2
}
