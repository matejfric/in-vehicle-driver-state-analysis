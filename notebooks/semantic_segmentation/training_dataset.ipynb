{
 "cells": [
  {
   "cell_type": "code",
   "execution_count": null,
   "metadata": {},
   "outputs": [],
   "source": [
    "%load_ext autoreload\n",
    "%autoreload 2"
   ]
  },
  {
   "cell_type": "code",
   "execution_count": null,
   "metadata": {},
   "outputs": [],
   "source": [
    "import re\n",
    "import shutil\n",
    "from pathlib import Path\n",
    "\n",
    "from sam2util import (\n",
    "    convert_mp4_to_images,\n",
    "    convert_mp4_to_images_every_nth_frame,\n",
    "    merge_videos,\n",
    ")\n",
    "from tqdm import tqdm\n",
    "\n",
    "from model import dmd"
   ]
  },
  {
   "cell_type": "code",
   "execution_count": null,
   "metadata": {},
   "outputs": [],
   "source": [
    "ROOT = Path.home() / 'source/driver-dataset'\n",
    "image_dir = ROOT / 'images'\n",
    "video_dir = ROOT / 'videos'\n",
    "frame_sampling_frequency = 30\n",
    "\n",
    "\n",
    "def list_dir(directory: Path) -> list[Path]:\n",
    "    if not directory.is_dir():\n",
    "        raise ValueError(f'`{directory}` is not a directory')\n",
    "    return [dir for dir in directory.glob('*') if dir.is_dir()]"
   ]
  },
  {
   "cell_type": "markdown",
   "metadata": {},
   "source": [
    "## Video to Images"
   ]
  },
  {
   "cell_type": "code",
   "execution_count": null,
   "metadata": {},
   "outputs": [],
   "source": [
    "# Convert videos to images.\n",
    "for path_to_process in tqdm(video_dir.rglob('*.mp4'), desc='Processing videos'):\n",
    "    output_dir = str(path_to_process).replace('videos', 'images').replace('.mp4', '')\n",
    "    convert_mp4_to_images_every_nth_frame(\n",
    "        path_to_process, output_dir, n=frame_sampling_frequency\n",
    "    )"
   ]
  },
  {
   "cell_type": "code",
   "execution_count": null,
   "metadata": {},
   "outputs": [],
   "source": [
    "# Check the number of exported frames for each video.\n",
    "frame_sum = 0\n",
    "for path_to_process in video_dir.rglob('*.mp4'):\n",
    "    output_dir_path = Path(\n",
    "        str(path_to_process).replace('videos', 'images').replace('.mp4', '')\n",
    "    )\n",
    "    n = len(list(output_dir_path.glob('*.jpg')))\n",
    "    frame_sum += n\n",
    "    print(f'{path_to_process}: {n} frames')\n",
    "print(f'Total frames: {frame_sum}')"
   ]
  },
  {
   "cell_type": "code",
   "execution_count": null,
   "metadata": {},
   "outputs": [],
   "source": [
    "# Merge predicted videos into one video (test data)\n",
    "# ~2 minutes\n",
    "\n",
    "video_paths = list((ROOT / 'images').rglob('*.mp4'))\n",
    "output_path = 'merged_video.mp4'\n",
    "merge_videos(video_paths, output_path)"
   ]
  },
  {
   "cell_type": "code",
   "execution_count": null,
   "metadata": {},
   "outputs": [],
   "source": [
    "# Check the number of images for each driver.\n",
    "driver_dirs: list[Path] = list_dir(image_dir)\n",
    "driver_dirs_and_subdirs: list[list[Path]] = [\n",
    "    list_dir(person_dir) for person_dir in driver_dirs\n",
    "]\n",
    "all_dirs: list[Path] = [\n",
    "    subdir for sublist in driver_dirs_and_subdirs for subdir in sublist\n",
    "]\n",
    "im_count = 0\n",
    "for dir in all_dirs:\n",
    "    images = list(dir.glob('*.jpg'))\n",
    "    print(f'{dir.parent.name}/{dir.name}: {len(images)} images')\n",
    "    im_count += len(images)\n",
    "print(f'Total images: {im_count}')"
   ]
  },
  {
   "cell_type": "markdown",
   "metadata": {},
   "source": [
    "## Train-Validation-Test Split"
   ]
  },
  {
   "cell_type": "code",
   "execution_count": null,
   "metadata": {},
   "outputs": [],
   "source": [
    "def multiply_number_in_string(s: str, factor: int) -> str:\n",
    "    \"\"\"\n",
    "    Example\n",
    "    -------\n",
    "    >>> multiply_number_in_string('frame_00002.jpg', 30)\n",
    "    >>> 'frame_00060.jpg'\n",
    "    \"\"\"\n",
    "    return re.sub(r'\\d+', lambda x: f'{int(int(x.group()) * factor):05}', s)"
   ]
  },
  {
   "cell_type": "code",
   "execution_count": null,
   "metadata": {},
   "outputs": [],
   "source": [
    "target_dataset = ROOT / Path('2025-03-23-driver-segmentation-dataset')\n",
    "frame_sum = 0\n",
    "for path_to_process in list(video_dir.rglob('*.mp4')) + list(\n",
    "    list_dir(image_dir / 'dmd')\n",
    "):\n",
    "    output_dir_path = Path(\n",
    "        str(path_to_process).replace('videos', 'images').replace('.mp4', '')\n",
    "    )\n",
    "    images = sorted(output_dir_path.glob('*.jpg'))\n",
    "\n",
    "    # Check if there exists `*_fix` directory with updated masks (manual prompt corrections)\n",
    "    path_to_fix = Path(str(output_dir_path) + '_fix')\n",
    "    if path_to_fix.exists():\n",
    "        masks = sorted((path_to_fix / 'sam2_output/masks').glob('*.png'))\n",
    "    else:\n",
    "        masks = sorted((output_dir_path / 'sam2_output/masks').glob('*.png'))\n",
    "\n",
    "    assert len(images) == len(masks), 'Number of images and masks must be the same'\n",
    "\n",
    "    n = len(images)\n",
    "\n",
    "    val_size = 0.2\n",
    "    val_n = int(n * val_size)\n",
    "    train_n = n - 2 * val_n\n",
    "\n",
    "    train_split = (images[:train_n], masks[:train_n])\n",
    "    val_split = (images[train_n : train_n + val_n], masks[train_n : train_n + val_n])\n",
    "    test_split = (images[train_n + val_n :], masks[train_n + val_n :])\n",
    "\n",
    "    frame_dir = images[0].parent.parent.name + '_' + images[0].parent.name\n",
    "    print(f'{frame_dir}: {n} frames')\n",
    "\n",
    "    # move images and masks to train, val, test directories\n",
    "    for split, split_name in zip(\n",
    "        [train_split, val_split, test_split],\n",
    "        ['train', 'validation', 'test'],\n",
    "        strict=True,\n",
    "    ):\n",
    "        images, masks = split\n",
    "        for image, mask in zip(images, masks):\n",
    "            img_name = f'{frame_dir}-{image.name}'\n",
    "            renamed_mask = multiply_number_in_string(\n",
    "                mask.name, frame_sampling_frequency\n",
    "            )\n",
    "            mask_name = f'{frame_dir}-{renamed_mask}'\n",
    "\n",
    "            image_dst = target_dataset / split_name / 'images' / img_name\n",
    "            mask_dst = target_dataset / split_name / 'masks' / mask_name\n",
    "            image_dst.parent.mkdir(parents=True, exist_ok=True)\n",
    "            mask_dst.parent.mkdir(parents=True, exist_ok=True)\n",
    "\n",
    "            # Copy images and masks to the destination directories\n",
    "            shutil.copy(image, image_dst)\n",
    "            shutil.copy(mask, mask_dst)\n",
    "\n",
    "    frame_sum += n\n",
    "print(f'Total frames: {frame_sum}')"
   ]
  },
  {
   "cell_type": "code",
   "execution_count": null,
   "metadata": {},
   "outputs": [],
   "source": [
    "(\n",
    "    len(list((target_dataset / 'train' / 'images').glob('*.jpg'))),\n",
    "    len(list((target_dataset / 'validation' / 'images').glob('*.jpg'))),\n",
    "    len(list((target_dataset / 'test' / 'images').glob('*.jpg'))),\n",
    ")"
   ]
  },
  {
   "cell_type": "markdown",
   "metadata": {},
   "source": [
    "## Example Video to Images"
   ]
  },
  {
   "cell_type": "code",
   "execution_count": null,
   "metadata": {},
   "outputs": [],
   "source": [
    "for vid in ['anomal', 'normal']:\n",
    "    convert_mp4_to_images(\n",
    "        ROOT / f'videos/2021_08_31_geordi_enyaq/{vid}.mp4',\n",
    "        ROOT / f'2024-10-28-driver-all-frames/2021_08_31_geordi_enyaq/{vid}',\n",
    "    )"
   ]
  },
  {
   "cell_type": "code",
   "execution_count": null,
   "metadata": {},
   "outputs": [],
   "source": [
    "dirs_to_convert = [\n",
    "    '2021_11_18_dans_enyaq',\n",
    "    '2021_09_06_poli_enyaq',\n",
    "    '2021_11_05_michal_enyaq',\n",
    "    '2021_11_18_jakubh_enyaq',\n",
    "]"
   ]
  },
  {
   "cell_type": "code",
   "execution_count": null,
   "metadata": {},
   "outputs": [],
   "source": [
    "for dir_name in dirs_to_convert:\n",
    "    for vid in ['anomal', 'normal']:\n",
    "        convert_mp4_to_images(\n",
    "            video_dir / dir_name / f'{vid}.mp4',\n",
    "            ROOT / '2024-10-28-driver-all-frames' / dir_name / vid / 'images',\n",
    "        )"
   ]
  },
  {
   "cell_type": "markdown",
   "metadata": {},
   "source": [
    "## DMD\n",
    "\n",
    "Copy images from session clips to a folder."
   ]
  },
  {
   "cell_type": "code",
   "execution_count": null,
   "metadata": {},
   "outputs": [],
   "source": [
    "SOURCE_ROOT = Path.home() / 'source/driver-dataset/dmd'\n",
    "TARGET_ROOT = Path.home() / 'source/driver-dataset/images'"
   ]
  },
  {
   "cell_type": "code",
   "execution_count": null,
   "metadata": {},
   "outputs": [],
   "source": [
    "for session in dmd.get_all_sessions():\n",
    "    subdirs = sorted([p for p in (SOURCE_ROOT / session).rglob('rgb') if p.is_dir()])\n",
    "    all_images = sorted(\n",
    "        [\n",
    "            img\n",
    "            for subdir in subdirs\n",
    "            for img in subdir.glob('*.jpg')\n",
    "            if int(img.stem) % frame_sampling_frequency == 0\n",
    "        ],\n",
    "        key=lambda p: p.stem,\n",
    "    )\n",
    "    output_dir = TARGET_ROOT / 'dmd' / session\n",
    "    output_dir.mkdir(parents=True, exist_ok=True)\n",
    "\n",
    "    for img in tqdm(all_images, desc=session):\n",
    "        new_name = img.stem[1:] + img.suffix\n",
    "        shutil.copy(img, output_dir / new_name)"
   ]
  }
 ],
 "metadata": {
  "kernelspec": {
   "display_name": "torch",
   "language": "python",
   "name": "python3"
  },
  "language_info": {
   "codemirror_mode": {
    "name": "ipython",
    "version": 3
   },
   "file_extension": ".py",
   "mimetype": "text/x-python",
   "name": "python",
   "nbconvert_exporter": "python",
   "pygments_lexer": "ipython3",
   "version": "3.12.2"
  }
 },
 "nbformat": 4,
 "nbformat_minor": 2
}
