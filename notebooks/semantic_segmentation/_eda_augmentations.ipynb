{
 "cells": [
  {
   "cell_type": "code",
   "execution_count": null,
   "metadata": {},
   "outputs": [],
   "source": [
    "from pathlib import Path\n",
    "\n",
    "import albumentations as A\n",
    "import cv2\n",
    "import numpy as np\n",
    "from matplotlib import pyplot as plt"
   ]
  },
  {
   "cell_type": "code",
   "execution_count": null,
   "metadata": {},
   "outputs": [],
   "source": [
    "REPO_ROOT = Path.cwd().parent.parent\n",
    "image_path = REPO_ROOT / 'stuff/driver-illustration/driver.jpg'\n",
    "assert image_path.exists(), f'Image not found: {image_path}'\n",
    "\n",
    "output_dir = REPO_ROOT / 'outputs/albumentations'\n",
    "output_dir.mkdir(parents=True, exist_ok=True)"
   ]
  },
  {
   "cell_type": "code",
   "execution_count": null,
   "metadata": {},
   "outputs": [],
   "source": [
    "def visualize(image: np.ndarray) -> None:\n",
    "    plt.figure(figsize=(10, 5))\n",
    "    plt.axis('off')\n",
    "    plt.imshow(image)\n",
    "\n",
    "\n",
    "def save_image(image: np.ndarray, output_path: Path) -> None:\n",
    "    cv2.imwrite(str(output_path), cv2.cvtColor(image, cv2.COLOR_RGB2BGR))"
   ]
  },
  {
   "cell_type": "code",
   "execution_count": null,
   "metadata": {},
   "outputs": [],
   "source": [
    "image = cv2.imread(str(image_path))\n",
    "image = cv2.cvtColor(image, cv2.COLOR_BGR2RGB)\n",
    "visualize(image)\n",
    "save_image(image, output_dir / 'original.jpg')"
   ]
  },
  {
   "cell_type": "code",
   "execution_count": null,
   "metadata": {},
   "outputs": [],
   "source": [
    "transform = A.Compose(\n",
    "    [A.RandomSunFlare(p=1)],\n",
    ")\n",
    "transformed = transform(image=image)\n",
    "visualize(transformed['image'])\n",
    "save_image(transformed['image'], output_dir / 'sunflare.jpg')"
   ]
  },
  {
   "cell_type": "code",
   "execution_count": null,
   "metadata": {},
   "outputs": [],
   "source": [
    "transform = A.Compose(\n",
    "    [A.RandomShadow(p=1)],\n",
    ")\n",
    "transformed = transform(image=image)\n",
    "visualize(transformed['image'])\n",
    "save_image(transformed['image'], output_dir / 'shadow.jpg')"
   ]
  },
  {
   "cell_type": "code",
   "execution_count": null,
   "metadata": {},
   "outputs": [],
   "source": [
    "transform = A.Compose(\n",
    "    [\n",
    "        A.CoarseDropout(\n",
    "            num_holes_range=(10, 10),\n",
    "            hole_height_range=(32, 64),\n",
    "            hole_width_range=(32, 64),\n",
    "            p=1,\n",
    "        )\n",
    "    ],\n",
    ")\n",
    "transformed = transform(image=image)\n",
    "visualize(transformed['image'])\n",
    "save_image(transformed['image'], output_dir / 'dropout.jpg')"
   ]
  },
  {
   "cell_type": "code",
   "execution_count": null,
   "metadata": {},
   "outputs": [],
   "source": [
    "transform = A.Compose(\n",
    "    [A.RandomBrightnessContrast(p=1)],\n",
    ")\n",
    "transformed = transform(image=image)\n",
    "visualize(transformed['image'])\n",
    "save_image(transformed['image'], output_dir / 'brightness_contrast.jpg')"
   ]
  },
  {
   "cell_type": "code",
   "execution_count": null,
   "metadata": {},
   "outputs": [],
   "source": [
    "transform = A.Compose(\n",
    "    [A.HorizontalFlip(p=1)],\n",
    ")\n",
    "transformed = transform(image=image)\n",
    "visualize(transformed['image'])\n",
    "save_image(transformed['image'], output_dir / 'horizontal_flip.jpg')"
   ]
  },
  {
   "cell_type": "code",
   "execution_count": null,
   "metadata": {},
   "outputs": [],
   "source": [
    "transform = A.Compose(\n",
    "    [A.MotionBlur(p=1)],\n",
    ")\n",
    "transformed = transform(image=image)\n",
    "visualize(transformed['image'])\n",
    "save_image(transformed['image'], output_dir / 'motion_blur.jpg')"
   ]
  },
  {
   "cell_type": "code",
   "execution_count": null,
   "metadata": {},
   "outputs": [],
   "source": [
    "transform = A.Compose(\n",
    "    [A.GaussNoise(p=1, std_range=(0.1, 0.2))],\n",
    ")\n",
    "transformed = transform(image=image)\n",
    "visualize(transformed['image'])\n",
    "save_image(transformed['image'], output_dir / 'gauss_noise.jpg')"
   ]
  }
 ],
 "metadata": {
  "kernelspec": {
   "display_name": "torch",
   "language": "python",
   "name": "python3"
  },
  "language_info": {
   "codemirror_mode": {
    "name": "ipython",
    "version": 3
   },
   "file_extension": ".py",
   "mimetype": "text/x-python",
   "name": "python",
   "nbconvert_exporter": "python",
   "pygments_lexer": "ipython3",
   "version": "3.12.2"
  }
 },
 "nbformat": 4,
 "nbformat_minor": 2
}
