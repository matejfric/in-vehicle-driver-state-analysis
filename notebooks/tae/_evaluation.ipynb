{
 "cells": [
  {
   "cell_type": "code",
   "execution_count": null,
   "metadata": {},
   "outputs": [],
   "source": [
    "from pprint import pprint\n",
    "\n",
    "import dagshub\n",
    "import pandas as pd\n",
    "from mlflow.client import MlflowClient\n",
    "from mlflow.entities import ViewType"
   ]
  },
  {
   "cell_type": "code",
   "execution_count": null,
   "metadata": {},
   "outputs": [],
   "source": [
    "REPO_NAME = 'driver-tae'\n",
    "USER_NAME = 'matejfric'\n",
    "dagshub.init(REPO_NAME, USER_NAME, mlflow=True)  # type: ignore\n",
    "\n",
    "client = MlflowClient()"
   ]
  },
  {
   "cell_type": "markdown",
   "metadata": {},
   "source": [
    "## Get all experiment runs"
   ]
  },
  {
   "cell_type": "code",
   "execution_count": null,
   "metadata": {},
   "outputs": [],
   "source": [
    "experiments = client.search_experiments(filter_string=\"name!='Default'\")\n",
    "pprint([experiment.name for experiment in experiments])"
   ]
  },
  {
   "cell_type": "code",
   "execution_count": null,
   "metadata": {},
   "outputs": [],
   "source": [
    "# Get all runs from the experiments\n",
    "all_runs = []\n",
    "for experiment in experiments:\n",
    "    runs = client.search_runs(\n",
    "        experiment_ids=[experiment.experiment_id],\n",
    "        filter_string='',\n",
    "        run_view_type=ViewType.ACTIVE_ONLY,\n",
    "    )\n",
    "    all_runs.extend(runs)\n",
    "\n",
    "# Create a DataFrame from the runs\n",
    "runs_df = pd.DataFrame(\n",
    "    [\n",
    "        {\n",
    "            'run_id': r.info.run_id,\n",
    "            'experiment_id': r.info.experiment_id,\n",
    "            'experiment_name': client.get_experiment(r.info.experiment_id).name,\n",
    "            'status': r.info.status,\n",
    "            'start_time': pd.to_datetime(r.info.start_time, unit='ms'),\n",
    "            'end_time': pd.to_datetime(r.info.end_time, unit='ms')\n",
    "            if r.info.end_time\n",
    "            else None,\n",
    "            'artifact_uri': r.info.artifact_uri,\n",
    "            **r.data.params,  # Add all parameters\n",
    "            **{\n",
    "                f'metric.{k}': v for k, v in r.data.metrics.items()\n",
    "            },  # Add all metrics with \"metric.\" prefix\n",
    "        }\n",
    "        for r in all_runs\n",
    "    ]\n",
    ")\n",
    "\n",
    "# Display the DataFrame\n",
    "print(f'Total runs: {len(runs_df)}')\n",
    "runs_df.head()"
   ]
  },
  {
   "cell_type": "markdown",
   "metadata": {},
   "source": [
    "## Filtering"
   ]
  },
  {
   "cell_type": "code",
   "execution_count": null,
   "metadata": {},
   "outputs": [],
   "source": [
    "integer_columns = ['image_size', 'latent_dim', 'batch_size', 'early_stopping']\n",
    "runs_df[integer_columns] = runs_df[integer_columns].astype(int)"
   ]
  },
  {
   "cell_type": "code",
   "execution_count": null,
   "metadata": {},
   "outputs": [],
   "source": [
    "idx = runs_df.groupby(['driver', 'source_type', 'latent_dim', 'image_size'])[\n",
    "    'metric.roc_auc'\n",
    "].idxmax()\n",
    "best_runs_df = runs_df.loc[idx]"
   ]
  },
  {
   "cell_type": "code",
   "execution_count": null,
   "metadata": {},
   "outputs": [],
   "source": [
    "df = best_runs_df[\n",
    "    (best_runs_df['image_size'] == 64) & (best_runs_df['latent_dim'] == 128)\n",
    "]\n",
    "df"
   ]
  },
  {
   "cell_type": "markdown",
   "metadata": {},
   "source": [
    "## Download predictions"
   ]
  },
  {
   "cell_type": "code",
   "execution_count": null,
   "metadata": {},
   "outputs": [],
   "source": [
    "for run_id in best_runs_df['Run ID']:\n",
    "    local_path = client.download_artifacts(run_id, 'predictions.json', 'outputs')"
   ]
  }
 ],
 "metadata": {
  "kernelspec": {
   "display_name": "torch",
   "language": "python",
   "name": "python3"
  },
  "language_info": {
   "codemirror_mode": {
    "name": "ipython",
    "version": 3
   },
   "file_extension": ".py",
   "mimetype": "text/x-python",
   "name": "python",
   "nbconvert_exporter": "python",
   "pygments_lexer": "ipython3",
   "version": "3.12.2"
  }
 },
 "nbformat": 4,
 "nbformat_minor": 2
}
