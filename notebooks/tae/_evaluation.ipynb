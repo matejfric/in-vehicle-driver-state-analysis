{
 "cells": [
  {
   "cell_type": "markdown",
   "metadata": {},
   "source": [
    "# Evaluation of TAE Experiments\n",
    "\n",
    "This notebook connects to MLflow, downloads all experiment runs and creates visualizations."
   ]
  },
  {
   "cell_type": "code",
   "execution_count": null,
   "metadata": {},
   "outputs": [],
   "source": [
    "%load_ext autoreload\n",
    "%autoreload 2"
   ]
  },
  {
   "cell_type": "code",
   "execution_count": null,
   "metadata": {},
   "outputs": [],
   "source": [
    "import json\n",
    "from collections import defaultdict\n",
    "from pathlib import Path\n",
    "from pprint import pprint\n",
    "\n",
    "import dagshub\n",
    "import matplotlib.pyplot as plt\n",
    "import pandas as pd\n",
    "from mlflow.client import MlflowClient\n",
    "from tqdm import tqdm\n",
    "\n",
    "from model.fonts import set_cmu_typewriter_font\n",
    "from model.mlflow import download_all_runs\n",
    "from model.plot import plot_results"
   ]
  },
  {
   "cell_type": "code",
   "execution_count": null,
   "metadata": {},
   "outputs": [],
   "source": [
    "REPO_NAME = 'driver-tae'\n",
    "USER_NAME = 'matejfric'\n",
    "dagshub.init(REPO_NAME, USER_NAME, mlflow=True)  # type: ignore\n",
    "\n",
    "pd.set_option('display.max_columns', None)\n",
    "\n",
    "client = MlflowClient()\n",
    "\n",
    "plt.style.use('seaborn-v0_8-whitegrid')\n",
    "font = set_cmu_typewriter_font()"
   ]
  },
  {
   "cell_type": "markdown",
   "metadata": {},
   "source": [
    "## Get all experiment runs"
   ]
  },
  {
   "cell_type": "code",
   "execution_count": null,
   "metadata": {},
   "outputs": [],
   "source": [
    "experiments = client.search_experiments(filter_string=\"name!='Default'\")\n",
    "pprint([experiment.name for experiment in experiments])"
   ]
  },
  {
   "cell_type": "code",
   "execution_count": null,
   "metadata": {},
   "outputs": [],
   "source": [
    "runs_df = download_all_runs(client=client, experiments=experiments)\n",
    "\n",
    "# Display the DataFrame\n",
    "print(f'Total runs: {len(runs_df)}')\n",
    "runs_df.head()"
   ]
  },
  {
   "cell_type": "markdown",
   "metadata": {},
   "source": [
    "## Filtering"
   ]
  },
  {
   "cell_type": "code",
   "execution_count": null,
   "metadata": {},
   "outputs": [],
   "source": [
    "integer_columns = ['image_size', 'latent_dim', 'batch_size', 'early_stopping']\n",
    "runs_df[integer_columns] = runs_df[integer_columns].astype(int)"
   ]
  },
  {
   "cell_type": "code",
   "execution_count": null,
   "metadata": {},
   "outputs": [],
   "source": [
    "runs_df = runs_df[runs_df['batch_size'] == 256]\n",
    "runs_df = runs_df[runs_df['dataset'] == 'dmd']\n",
    "runs_df = runs_df[runs_df['encoder_name'] != 'EfficientNetEncoder']"
   ]
  },
  {
   "cell_type": "code",
   "execution_count": null,
   "metadata": {},
   "outputs": [],
   "source": [
    "idx = runs_df.groupby(['driver', 'source_type', 'latent_dim', 'image_size'])[\n",
    "    'metric.roc_auc'\n",
    "].idxmax()\n",
    "best_runs_df = runs_df.loc[idx]"
   ]
  },
  {
   "cell_type": "code",
   "execution_count": null,
   "metadata": {},
   "outputs": [],
   "source": [
    "df = best_runs_df[\n",
    "    (best_runs_df['image_size'] == 64) & (best_runs_df['latent_dim'] == 128)\n",
    "]\n",
    "print(df.shape)\n",
    "df[\n",
    "    [\n",
    "        'driver',\n",
    "        'source_type',\n",
    "        'metric.roc_auc',\n",
    "        'early_stopping',\n",
    "        'patience',\n",
    "        'min_epochs',\n",
    "        'best_metric',\n",
    "        'encoder_name',\n",
    "    ]\n",
    "]"
   ]
  },
  {
   "cell_type": "markdown",
   "metadata": {},
   "source": [
    "## Download predictions"
   ]
  },
  {
   "cell_type": "code",
   "execution_count": null,
   "metadata": {},
   "outputs": [],
   "source": [
    "df = df.assign(local_path=None)\n",
    "local_root = Path.cwd() / 'outputs' / 'mlflow_artifacts'\n",
    "artifact_dir = 'outputs/'\n",
    "\n",
    "# Loop through each row in the dataframe\n",
    "for index, row in tqdm(df.iterrows(), total=len(df)):\n",
    "    run_id = row['run_id']\n",
    "    # Download artifacts and store the path\n",
    "    local_dir = local_root / str(run_id)\n",
    "    local_dir.mkdir(parents=True, exist_ok=True)\n",
    "    local_path = client.download_artifacts(\n",
    "        run_id, artifact_dir + 'predictions.json', str(local_dir)\n",
    "    )\n",
    "    # Save the local path to the dataframe\n",
    "    df.at[index, 'local_path'] = local_path"
   ]
  },
  {
   "cell_type": "code",
   "execution_count": null,
   "metadata": {},
   "outputs": [],
   "source": [
    "source_type_map = {\n",
    "    'depth': 'MDE',\n",
    "    'source_depth': 'Depth',\n",
    "    'images': 'RGB',\n",
    "    'rgb': 'RGB',\n",
    "    'masks': 'Mask',\n",
    "    'rgbd': 'RGBD',\n",
    "    'rgbdm': 'RGBDM',\n",
    "}\n",
    "source_type_color_map = {\n",
    "    'Depth': 'tab:blue',\n",
    "    'RGB': 'tab:orange',\n",
    "    'Mask': 'tab:green',\n",
    "    'MDE': 'tab:red',\n",
    "    'RGBD': 'tab:purple',\n",
    "    'RGBDM': 'tab:pink',\n",
    "}\n",
    "source_type_linestyle_map = {\n",
    "    'Mask': '-',\n",
    "    'Depth': '--',\n",
    "    'RGB': '-.',\n",
    "    'RGBD': ':',\n",
    "    'RGBDM': '-',\n",
    "}"
   ]
  },
  {
   "cell_type": "code",
   "execution_count": null,
   "metadata": {},
   "outputs": [],
   "source": [
    "# Load the predictions from the local paths\n",
    "data = defaultdict(dict)\n",
    "for index, row in df.iterrows():\n",
    "    with open(row['local_path']) as f:\n",
    "        results = json.load(f)\n",
    "    source_type = source_type_map[row['source_type']]\n",
    "    if source_type == 'RGBDM':\n",
    "        continue\n",
    "    data[row['driver']][source_type] = results"
   ]
  },
  {
   "cell_type": "code",
   "execution_count": null,
   "metadata": {},
   "outputs": [],
   "source": [
    "drivers = list(data.keys())\n",
    "source_types = list(data[list(data.keys())[1]].keys())\n",
    "pprint(source_types)\n",
    "pprint(drivers)"
   ]
  },
  {
   "cell_type": "markdown",
   "metadata": {},
   "source": [
    "## Visualizations"
   ]
  },
  {
   "cell_type": "code",
   "execution_count": null,
   "metadata": {},
   "outputs": [],
   "source": [
    "driver_name_mapping = {\n",
    "    'dans': 1,\n",
    "    'geordi': 2,\n",
    "    'jakub': 3,\n",
    "    'michal': 4,\n",
    "    'poli': 5,\n",
    "    'all': 'all',\n",
    "}"
   ]
  },
  {
   "cell_type": "code",
   "execution_count": null,
   "metadata": {},
   "outputs": [],
   "source": [
    "plt.rc('font', size=16)\n",
    "\n",
    "plot_kwargs = dict(\n",
    "    source_type_color_map=source_type_color_map,\n",
    "    # source_type_linestyle_map=source_type_linestyle_map,\n",
    "    # driver_name_mapping=driver_name_mapping,\n",
    "    fig_height_multiplier=5,\n",
    "    fig_width_multiplier=3.5,\n",
    "    n_rows=1,\n",
    "    linewidth=2,\n",
    "    legend_outside=True,\n",
    ")"
   ]
  },
  {
   "cell_type": "code",
   "execution_count": null,
   "metadata": {},
   "outputs": [],
   "source": [
    "plot_results('roc', data, save_path='outputs/roc_auc.pdf', **plot_kwargs)"
   ]
  },
  {
   "cell_type": "code",
   "execution_count": null,
   "metadata": {},
   "outputs": [],
   "source": [
    "plot_results('pr', data, save_path='outputs/pr_auc.pdf', **plot_kwargs)"
   ]
  }
 ],
 "metadata": {
  "kernelspec": {
   "display_name": "torch",
   "language": "python",
   "name": "python3"
  },
  "language_info": {
   "codemirror_mode": {
    "name": "ipython",
    "version": 3
   },
   "file_extension": ".py",
   "mimetype": "text/x-python",
   "name": "python",
   "nbconvert_exporter": "python",
   "pygments_lexer": "ipython3",
   "version": "3.12.2"
  }
 },
 "nbformat": 4,
 "nbformat_minor": 2
}
