{
 "cells": [
  {
   "cell_type": "markdown",
   "metadata": {},
   "source": [
    "# Evaluation of TAE Experiments\n",
    "\n",
    "This notebook connects to MLflow, downloads all experiment runs and creates visualizations."
   ]
  },
  {
   "cell_type": "code",
   "execution_count": null,
   "metadata": {},
   "outputs": [],
   "source": [
    "%load_ext autoreload\n",
    "%autoreload 2"
   ]
  },
  {
   "cell_type": "code",
   "execution_count": null,
   "metadata": {},
   "outputs": [],
   "source": [
    "from pathlib import Path\n",
    "from pprint import pprint\n",
    "\n",
    "import dagshub\n",
    "import matplotlib.pyplot as plt\n",
    "import pandas as pd\n",
    "from mlflow.client import MlflowClient\n",
    "\n",
    "from model.common import MRL_DRIVER_NAMES_MAPPING\n",
    "from model.fonts import set_cmu_typewriter_font\n",
    "from model.latex import get_caption, pivot_table_to_latex, pivotize_drivers\n",
    "from model.mlflow import download_all_runs, download_predictions, load_predictions\n",
    "from model.plot import plot_results"
   ]
  },
  {
   "cell_type": "code",
   "execution_count": null,
   "metadata": {},
   "outputs": [],
   "source": [
    "REPO_NAME = 'driver-tae'\n",
    "USER_NAME = 'matejfric'\n",
    "dagshub.init(REPO_NAME, USER_NAME, mlflow=True)  # type: ignore\n",
    "\n",
    "pd.set_option('display.max_columns', None)\n",
    "\n",
    "client = MlflowClient()\n",
    "\n",
    "plt.style.use('seaborn-v0_8-whitegrid')\n",
    "font = set_cmu_typewriter_font()"
   ]
  },
  {
   "cell_type": "markdown",
   "metadata": {},
   "source": [
    "## Get all experiment runs"
   ]
  },
  {
   "cell_type": "code",
   "execution_count": null,
   "metadata": {},
   "outputs": [],
   "source": [
    "experiments = client.search_experiments(filter_string=\"name!='Default'\")\n",
    "pprint([experiment.name for experiment in experiments])"
   ]
  },
  {
   "cell_type": "code",
   "execution_count": null,
   "metadata": {},
   "outputs": [],
   "source": [
    "runs_df = download_all_runs(client=client, experiments=experiments)\n",
    "\n",
    "# Display the DataFrame\n",
    "print(f'Total runs: {len(runs_df)}')\n",
    "runs_df.head()"
   ]
  },
  {
   "cell_type": "code",
   "execution_count": null,
   "metadata": {},
   "outputs": [],
   "source": [
    "integer_columns = ['image_size', 'latent_dim', 'batch_size', 'early_stopping']\n",
    "runs_df[integer_columns] = runs_df[integer_columns].astype(int)"
   ]
  },
  {
   "cell_type": "markdown",
   "metadata": {},
   "source": [
    "## Helper functions"
   ]
  },
  {
   "cell_type": "code",
   "execution_count": null,
   "metadata": {},
   "outputs": [],
   "source": [
    "source_type_map = {\n",
    "    'depth': 'MDE',\n",
    "    'source_depth': 'Depth',\n",
    "    'images': 'RGB',\n",
    "    'rgb': 'RGB',\n",
    "    'masks': 'Mask',\n",
    "    'rgbd': 'RGBD',\n",
    "    'rgbdm': 'RGBDM',\n",
    "}\n",
    "source_type_color_map = {\n",
    "    'Depth': 'tab:red',\n",
    "    'RGB': 'tab:green',\n",
    "    'Mask': 'tab:blue',\n",
    "    'MDE': 'tab:orange',\n",
    "    'RGBD': 'tab:purple',\n",
    "    'RGBDM': 'tab:cyan',\n",
    "}\n",
    "source_type_linestyle_map = {\n",
    "    'MDE': '-',\n",
    "    'Mask': '--',\n",
    "    'Depth': '-.',\n",
    "    'RGB': '-',\n",
    "    'RGBD': '--',\n",
    "    'RGBDM': '-.',\n",
    "}\n",
    "driver_name_mapping = {\n",
    "    **MRL_DRIVER_NAMES_MAPPING,\n",
    "    'all': 'All',\n",
    "    'mean': 'Mean',\n",
    "    **{str(i): str(i) for i in range(1, 6)},\n",
    "    **{i: str(i) for i in range(1, 6)},\n",
    "}"
   ]
  },
  {
   "cell_type": "code",
   "execution_count": null,
   "metadata": {},
   "outputs": [],
   "source": [
    "OUTPUT_DIR = Path('outputs')\n",
    "OUTPUT_DIR.mkdir(exist_ok=True)\n",
    "(OUTPUT_DIR / 'dmd_tae').mkdir(exist_ok=True)\n",
    "(OUTPUT_DIR / 'mrl_tae').mkdir(exist_ok=True)\n",
    "(OUTPUT_DIR / 'mrl_tae_eff').mkdir(exist_ok=True)"
   ]
  },
  {
   "cell_type": "markdown",
   "metadata": {},
   "source": [
    "## DMD Filtering"
   ]
  },
  {
   "cell_type": "code",
   "execution_count": null,
   "metadata": {},
   "outputs": [],
   "source": [
    "df_selection = runs_df[\n",
    "    (runs_df['batch_size'] == 256)\n",
    "    & (runs_df['dataset'] == 'dmd')\n",
    "    # source_type 'source_depth' is invalid and replaced with 'source_depth_ir_masked'\n",
    "    & (runs_df['source_type'] != 'source_depth')\n",
    "    # Experiment with TimeDistributedV2\n",
    "    & (runs_df['run_id'] != 'f6aef4dd035340648ec48e696ca46c33')\n",
    "]\n",
    "df_selection.loc[\n",
    "    df_selection['source_type'] == 'source_depth_ir_masked', 'source_type'\n",
    "] = 'source_depth'"
   ]
  },
  {
   "cell_type": "code",
   "execution_count": null,
   "metadata": {},
   "outputs": [],
   "source": [
    "idx = df_selection.groupby(\n",
    "    ['driver', 'source_type', 'latent_dim', 'image_size', 'encoder_name']\n",
    ")['metric.roc_auc'].idxmax()\n",
    "best_runs_df = df_selection.loc[idx]\n",
    "\n",
    "df_dmd = best_runs_df[\n",
    "    (best_runs_df['image_size'] == 64) & (best_runs_df['latent_dim'] == 128)\n",
    "]\n",
    "print(df_dmd.shape)\n",
    "df_dmd[\n",
    "    [\n",
    "        'driver',\n",
    "        'source_type',\n",
    "        'metric.roc_auc',\n",
    "        'early_stopping',\n",
    "        'patience',\n",
    "        'min_epochs',\n",
    "        'best_metric',\n",
    "        'latent_dim',\n",
    "        'image_size',\n",
    "        'encoder_name',\n",
    "    ]\n",
    "]"
   ]
  },
  {
   "cell_type": "code",
   "execution_count": null,
   "metadata": {},
   "outputs": [],
   "source": [
    "df_dmd_pivot = pivotize_drivers(\n",
    "    df_dmd,\n",
    "    source_type_map=source_type_map,\n",
    "    driver_name_mapping=driver_name_mapping,\n",
    ")\n",
    "df_dmd_pivot.head()"
   ]
  },
  {
   "cell_type": "code",
   "execution_count": null,
   "metadata": {},
   "outputs": [],
   "source": [
    "pivot_table_to_latex(\n",
    "    df_dmd_pivot,\n",
    "    OUTPUT_DIR / 'dmd_tae_pivot.tex',\n",
    "    'tab:dmd-tae-pivot',\n",
    "    get_caption('TAE', 'DMD'),\n",
    ")"
   ]
  },
  {
   "cell_type": "markdown",
   "metadata": {},
   "source": [
    "## MRL Filtering"
   ]
  },
  {
   "cell_type": "code",
   "execution_count": null,
   "metadata": {},
   "outputs": [],
   "source": [
    "runs_df['encoder_name'] = runs_df['encoder_name'].fillna('ISVC23EncoderV1')\n",
    "df_selection = runs_df[\n",
    "    (runs_df['dataset'] != 'dmd')\n",
    "    & (\n",
    "        (runs_df['encoder_name'] == 'EfficientNetEncoder')\n",
    "        | (runs_df['encoder_name'] == 'ISVC23EncoderV1')\n",
    "    )\n",
    "    & (runs_df['source_type'] != 'rgbdm')\n",
    "]"
   ]
  },
  {
   "cell_type": "code",
   "execution_count": null,
   "metadata": {},
   "outputs": [],
   "source": [
    "idx = df_selection.groupby(\n",
    "    ['driver', 'source_type', 'latent_dim', 'image_size', 'encoder_name']\n",
    ")['metric.roc_auc'].idxmax()\n",
    "best_runs_df = df_selection.loc[idx]"
   ]
  },
  {
   "cell_type": "code",
   "execution_count": null,
   "metadata": {},
   "outputs": [],
   "source": [
    "df = best_runs_df[\n",
    "    (best_runs_df['image_size'] == 64) & (best_runs_df['latent_dim'] == 128)\n",
    "]\n",
    "print(df.shape)\n",
    "df[\n",
    "    [\n",
    "        'driver',\n",
    "        'source_type',\n",
    "        'metric.roc_auc',\n",
    "        'early_stopping',\n",
    "        'patience',\n",
    "        'min_epochs',\n",
    "        'best_metric',\n",
    "        'latent_dim',\n",
    "        'image_size',\n",
    "        'encoder_name',\n",
    "    ]\n",
    "]"
   ]
  },
  {
   "cell_type": "code",
   "execution_count": null,
   "metadata": {},
   "outputs": [],
   "source": [
    "df_efficientnet = df[df['encoder_name'] == 'EfficientNetEncoder'].copy()\n",
    "df_efficientnet[\n",
    "    [\n",
    "        'driver',\n",
    "        'source_type',\n",
    "        'metric.roc_auc',\n",
    "        'early_stopping',\n",
    "        'patience',\n",
    "        'min_epochs',\n",
    "        'best_metric',\n",
    "        'latent_dim',\n",
    "        'image_size',\n",
    "        'encoder_name',\n",
    "    ]\n",
    "]"
   ]
  },
  {
   "cell_type": "code",
   "execution_count": null,
   "metadata": {},
   "outputs": [],
   "source": [
    "df_isvc = df[df['encoder_name'] == 'ISVC23EncoderV1'].copy()\n",
    "df_isvc[\n",
    "    [\n",
    "        'driver',\n",
    "        'source_type',\n",
    "        'metric.roc_auc',\n",
    "        'early_stopping',\n",
    "        'patience',\n",
    "        'min_epochs',\n",
    "        'best_metric',\n",
    "        'latent_dim',\n",
    "        'image_size',\n",
    "        'encoder_name',\n",
    "    ]\n",
    "]"
   ]
  },
  {
   "cell_type": "code",
   "execution_count": null,
   "metadata": {},
   "outputs": [],
   "source": [
    "df_efficientnet_pivot = pivotize_drivers(\n",
    "    df_efficientnet,\n",
    "    source_type_map=source_type_map,\n",
    "    driver_name_mapping=driver_name_mapping,\n",
    ")\n",
    "df_efficientnet_pivot = df_efficientnet_pivot[\n",
    "    [\n",
    "        'Image Type',\n",
    "        'Driver 1',\n",
    "        'Driver 2',\n",
    "        'Driver 4',\n",
    "        'Driver 5',\n",
    "        'Driver 6',\n",
    "        'Mean',\n",
    "        'All',\n",
    "    ]\n",
    "]\n",
    "df_efficientnet_pivot.head()"
   ]
  },
  {
   "cell_type": "code",
   "execution_count": null,
   "metadata": {},
   "outputs": [],
   "source": [
    "df_isvc_pivot = pivotize_drivers(\n",
    "    df_isvc,\n",
    "    source_type_map=source_type_map,\n",
    "    driver_name_mapping=driver_name_mapping,\n",
    ")\n",
    "df_isvc_pivot = df_isvc_pivot[\n",
    "    [\n",
    "        'Image Type',\n",
    "        'Driver 1',\n",
    "        'Driver 2',\n",
    "        'Driver 4',\n",
    "        'Driver 5',\n",
    "        'Driver 6',\n",
    "        'Mean',\n",
    "        'All',\n",
    "    ]\n",
    "]\n",
    "df_isvc_pivot.head()"
   ]
  },
  {
   "cell_type": "code",
   "execution_count": null,
   "metadata": {},
   "outputs": [],
   "source": [
    "pivot_table_to_latex(\n",
    "    df_efficientnet_pivot,\n",
    "    OUTPUT_DIR / 'efficientnet_pivot.tex',\n",
    "    label='tab:efficientnet-mrl-pivot',\n",
    "    caption=get_caption('TAE-EfficientNet', 'MRL'),\n",
    ")"
   ]
  },
  {
   "cell_type": "code",
   "execution_count": null,
   "metadata": {},
   "outputs": [],
   "source": [
    "pivot_table_to_latex(\n",
    "    df_isvc_pivot,\n",
    "    OUTPUT_DIR / 'tae_pivot.tex',\n",
    "    label='tab:tae-mrl-pivot',\n",
    "    caption=get_caption('TAE', 'MRL'),\n",
    ")"
   ]
  },
  {
   "cell_type": "markdown",
   "metadata": {},
   "source": [
    "## Visualizations"
   ]
  },
  {
   "cell_type": "markdown",
   "metadata": {},
   "source": [
    "### MRL TAE-EfficientNet"
   ]
  },
  {
   "cell_type": "code",
   "execution_count": null,
   "metadata": {},
   "outputs": [],
   "source": [
    "df_efficientnet = download_predictions(client, df_efficientnet)\n",
    "data_eff = load_predictions(df_efficientnet, source_type_map=source_type_map)"
   ]
  },
  {
   "cell_type": "code",
   "execution_count": null,
   "metadata": {},
   "outputs": [],
   "source": [
    "plot_kwargs = dict(\n",
    "    source_type_color_map=source_type_color_map,\n",
    "    driver_name_mapping=driver_name_mapping,\n",
    "    fig_height_multiplier=7,\n",
    "    fig_width_multiplier=5.5,\n",
    "    n_rows=2,\n",
    "    linewidth=2,\n",
    "    legend_outside=False,\n",
    ")\n",
    "plt.rc('font', size=22)"
   ]
  },
  {
   "cell_type": "code",
   "execution_count": null,
   "metadata": {},
   "outputs": [],
   "source": [
    "# Re-order\n",
    "data_eff = {\n",
    "    'geordi': data_eff['geordi'],\n",
    "    'jakub': data_eff['jakub'],\n",
    "    'michal': data_eff['michal'],\n",
    "    'poli': data_eff['poli'],\n",
    "    'dans': data_eff['dans'],\n",
    "    'all': data_eff['all'],\n",
    "}"
   ]
  },
  {
   "cell_type": "code",
   "execution_count": null,
   "metadata": {},
   "outputs": [],
   "source": [
    "plot_results(\n",
    "    'roc', data_eff, save_path=OUTPUT_DIR / 'mrl_tae_eff' / 'roc_auc.pdf', **plot_kwargs\n",
    ")"
   ]
  },
  {
   "cell_type": "code",
   "execution_count": null,
   "metadata": {},
   "outputs": [],
   "source": [
    "plot_results(\n",
    "    'pr', data_eff, save_path=OUTPUT_DIR / 'mrl_tae_eff' / 'pr_auc.pdf', **plot_kwargs\n",
    ")"
   ]
  },
  {
   "cell_type": "markdown",
   "metadata": {},
   "source": [
    "### MRL TAE"
   ]
  },
  {
   "cell_type": "code",
   "execution_count": null,
   "metadata": {},
   "outputs": [],
   "source": [
    "df_isvc = download_predictions(client, df_isvc)\n",
    "data_tae = load_predictions(df_isvc, source_type_map=source_type_map)"
   ]
  },
  {
   "cell_type": "code",
   "execution_count": null,
   "metadata": {},
   "outputs": [],
   "source": [
    "plot_kwargs = dict(\n",
    "    source_type_color_map=source_type_color_map,\n",
    "    driver_name_mapping=driver_name_mapping,\n",
    "    fig_height_multiplier=7,\n",
    "    fig_width_multiplier=5.5,\n",
    "    n_rows=2,\n",
    "    linewidth=2,\n",
    "    legend_outside=False,\n",
    ")\n",
    "plt.rc('font', size=22)"
   ]
  },
  {
   "cell_type": "code",
   "execution_count": null,
   "metadata": {},
   "outputs": [],
   "source": [
    "# Re-order\n",
    "data_tae = {\n",
    "    'geordi': data_tae['geordi'],\n",
    "    'jakub': data_tae['jakub'],\n",
    "    'michal': data_tae['michal'],\n",
    "    'poli': data_tae['poli'],\n",
    "    'dans': data_tae['dans'],\n",
    "    'all': data_tae['all'],\n",
    "}"
   ]
  },
  {
   "cell_type": "code",
   "execution_count": null,
   "metadata": {},
   "outputs": [],
   "source": [
    "plot_results(\n",
    "    'roc', data_tae, save_path=OUTPUT_DIR / 'mrl_tae' / 'roc_auc.pdf', **plot_kwargs\n",
    ")"
   ]
  },
  {
   "cell_type": "code",
   "execution_count": null,
   "metadata": {},
   "outputs": [],
   "source": [
    "plot_results(\n",
    "    'pr', data_tae, save_path=OUTPUT_DIR / 'mrl_tae' / 'pr_auc.pdf', **plot_kwargs\n",
    ")"
   ]
  },
  {
   "cell_type": "markdown",
   "metadata": {},
   "source": [
    "### DMD TAE"
   ]
  },
  {
   "cell_type": "code",
   "execution_count": null,
   "metadata": {},
   "outputs": [],
   "source": [
    "df_dmd = download_predictions(client, df_dmd)\n",
    "data_dmd_tae = load_predictions(df_dmd, source_type_map=source_type_map)"
   ]
  },
  {
   "cell_type": "code",
   "execution_count": null,
   "metadata": {},
   "outputs": [],
   "source": [
    "plot_kwargs = dict(\n",
    "    source_type_color_map=source_type_color_map,\n",
    "    fig_height_multiplier=7,\n",
    "    fig_width_multiplier=5.5,\n",
    "    n_rows=2,\n",
    "    linewidth=2,\n",
    "    legend_outside=False,\n",
    ")\n",
    "plt.rc('font', size=22)"
   ]
  },
  {
   "cell_type": "code",
   "execution_count": null,
   "metadata": {},
   "outputs": [],
   "source": [
    "plot_results(\n",
    "    'roc',\n",
    "    data_dmd_tae,\n",
    "    save_path=OUTPUT_DIR / 'dmd_tae' / 'roc_auc.pdf',\n",
    "    **plot_kwargs,\n",
    ")"
   ]
  },
  {
   "cell_type": "code",
   "execution_count": null,
   "metadata": {},
   "outputs": [],
   "source": [
    "plot_results(\n",
    "    'pr', data_dmd_tae, save_path=OUTPUT_DIR / 'dmd_tae' / 'pr_auc.pdf', **plot_kwargs\n",
    ")"
   ]
  }
 ],
 "metadata": {
  "kernelspec": {
   "display_name": "torch",
   "language": "python",
   "name": "python3"
  },
  "language_info": {
   "codemirror_mode": {
    "name": "ipython",
    "version": 3
   },
   "file_extension": ".py",
   "mimetype": "text/x-python",
   "name": "python",
   "nbconvert_exporter": "python",
   "pygments_lexer": "ipython3",
   "version": "3.12.2"
  }
 },
 "nbformat": 4,
 "nbformat_minor": 2
}
