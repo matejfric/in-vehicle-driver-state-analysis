{
 "cells": [
  {
   "cell_type": "markdown",
   "metadata": {},
   "source": [
    "# Evaluation of STAE Experiments\n",
    "\n",
    "This notebook connects to MLflow, downloads all experiment runs and creates visualizations."
   ]
  },
  {
   "cell_type": "code",
   "execution_count": null,
   "metadata": {},
   "outputs": [],
   "source": [
    "%load_ext autoreload\n",
    "%autoreload 2"
   ]
  },
  {
   "cell_type": "code",
   "execution_count": null,
   "metadata": {},
   "outputs": [],
   "source": [
    "from collections import defaultdict\n",
    "from pathlib import Path\n",
    "from pprint import pprint\n",
    "\n",
    "import dagshub\n",
    "import matplotlib.pyplot as plt\n",
    "import pandas as pd\n",
    "from mlflow.client import MlflowClient\n",
    "\n",
    "from model.fonts import set_cmu_typewriter_font\n",
    "from model.latex import get_caption, pivot_table_to_latex, pivotize_drivers\n",
    "from model.mlflow import download_all_runs, download_predictions, load_predictions\n",
    "from model.plot import plot_results"
   ]
  },
  {
   "cell_type": "code",
   "execution_count": null,
   "metadata": {},
   "outputs": [],
   "source": [
    "REPO_NAME = 'driver-stae'\n",
    "USER_NAME = 'matejfric'\n",
    "dagshub.init(REPO_NAME, USER_NAME, mlflow=True)  # type: ignore\n",
    "\n",
    "pd.set_option('display.max_columns', None)\n",
    "\n",
    "client = MlflowClient()\n",
    "\n",
    "plt.style.use('seaborn-v0_8-whitegrid')\n",
    "font = set_cmu_typewriter_font()\n",
    "plt.rc('font', size=34)"
   ]
  },
  {
   "cell_type": "markdown",
   "metadata": {},
   "source": [
    "## Get all experiment runs"
   ]
  },
  {
   "cell_type": "code",
   "execution_count": null,
   "metadata": {},
   "outputs": [],
   "source": [
    "experiments = client.search_experiments()\n",
    "pprint([experiment.name for experiment in experiments])"
   ]
  },
  {
   "cell_type": "code",
   "execution_count": null,
   "metadata": {},
   "outputs": [],
   "source": [
    "runs_df = download_all_runs(client=client, experiments=experiments)\n",
    "\n",
    "# Display the DataFrame\n",
    "print(f'Total runs: {len(runs_df)}')\n",
    "runs_df.head(10)"
   ]
  },
  {
   "cell_type": "code",
   "execution_count": null,
   "metadata": {},
   "outputs": [],
   "source": [
    "source_type_map = {\n",
    "    'masks': 'Mask',\n",
    "    'depth': 'MDE',\n",
    "    'images': 'RGB',\n",
    "    'rgb': 'RGB',\n",
    "    'rgbd': 'RGBD',\n",
    "    'rgbdm': 'RGBDM',\n",
    "}\n",
    "source_type_color_map = {\n",
    "    'Mask': 'tab:orange',\n",
    "    'MDE': 'tab:blue',\n",
    "    'RGB': 'tab:green',\n",
    "    'RGBD': 'tab:red',\n",
    "    'RGBDM': 'tab:purple',\n",
    "}\n",
    "source_type_linestyle_map = {\n",
    "    'MDE': '-',\n",
    "    'Mask': '--',\n",
    "    'RGB': '-.',\n",
    "    'RGBD': ':',\n",
    "    'RGBDM': '-',\n",
    "}\n",
    "driver_name_mapping = {'dans': 1, 'geordi': 2, 'jakub': 3, 'michal': 4, 'poli': 5}\n",
    "\n",
    "OUTPUT_DIR = Path('outputs')\n",
    "OUTPUT_DIR.mkdir(exist_ok=True)"
   ]
  },
  {
   "cell_type": "markdown",
   "metadata": {},
   "source": [
    "## Filtering"
   ]
  },
  {
   "cell_type": "code",
   "execution_count": null,
   "metadata": {},
   "outputs": [],
   "source": [
    "integer_columns = ['image_size', 'batch_size', 'early_stopping']\n",
    "runs_df[integer_columns] = runs_df[integer_columns].astype(int)"
   ]
  },
  {
   "cell_type": "code",
   "execution_count": null,
   "metadata": {},
   "outputs": [],
   "source": [
    "df_selection = runs_df[\n",
    "    (runs_df['image_size'] == 64)\n",
    "    & (runs_df['tag.Commit ID'] == '36865282077c25364392dcb25cfea2e3e09b1edb')\n",
    "    & (runs_df['tag.Dataset'] != 'dmd')\n",
    "]"
   ]
  },
  {
   "cell_type": "code",
   "execution_count": null,
   "metadata": {},
   "outputs": [],
   "source": [
    "idx = df_selection.groupby(['driver', 'source_type', 'image_size'])[\n",
    "    'metric.roc_auc'\n",
    "].idxmax()\n",
    "df_mrl_stae = df_selection.loc[idx]\n",
    "df_mrl_stae[\n",
    "    [\n",
    "        'driver',\n",
    "        'source_type',\n",
    "        'metric.roc_auc',\n",
    "        'metric.pr_auc',\n",
    "        'early_stopping',\n",
    "        'patience',\n",
    "        'best_metric',\n",
    "    ]\n",
    "]"
   ]
  },
  {
   "cell_type": "code",
   "execution_count": null,
   "metadata": {},
   "outputs": [],
   "source": [
    "df_mrl_stae_pivot = pivotize_drivers(\n",
    "    df_mrl_stae,\n",
    "    source_type_map=source_type_map,\n",
    "    driver_name_mapping=driver_name_mapping,\n",
    ")\n",
    "df_mrl_stae_pivot.head()"
   ]
  },
  {
   "cell_type": "code",
   "execution_count": null,
   "metadata": {},
   "outputs": [],
   "source": [
    "pivot_table_to_latex(\n",
    "    df_mrl_stae_pivot,\n",
    "    path=OUTPUT_DIR / 'stae_mrl_pivot.tex',\n",
    "    caption=get_caption('STAE', 'MRL'),\n",
    "    label='tab:stae-mrl-pivot',\n",
    ")"
   ]
  },
  {
   "cell_type": "markdown",
   "metadata": {},
   "source": [
    "## Download predictions"
   ]
  },
  {
   "cell_type": "code",
   "execution_count": null,
   "metadata": {},
   "outputs": [],
   "source": [
    "df_mrl_stae = download_predictions(client=client, df=df_mrl_stae)\n",
    "data_mrl_stae = load_predictions(df_mrl_stae, source_type_map=source_type_map)"
   ]
  },
  {
   "cell_type": "markdown",
   "metadata": {},
   "source": [
    "## Visualizations"
   ]
  },
  {
   "cell_type": "code",
   "execution_count": null,
   "metadata": {},
   "outputs": [],
   "source": [
    "plt.rc('font', size=17)\n",
    "\n",
    "plot_kwargs = dict(\n",
    "    source_type_color_map=source_type_color_map,\n",
    "    source_type_linestyle_map=source_type_linestyle_map,\n",
    "    driver_name_mapping=driver_name_mapping,\n",
    "    fig_height_multiplier=5,\n",
    "    fig_width_multiplier=3.6,\n",
    "    n_rows=1,\n",
    "    linewidth=2,\n",
    "    legend_outside=True,\n",
    ")"
   ]
  },
  {
   "cell_type": "code",
   "execution_count": null,
   "metadata": {},
   "outputs": [],
   "source": [
    "plot_results('roc', data_mrl_stae, save_path='outputs/roc_auc.pdf', **plot_kwargs)"
   ]
  },
  {
   "cell_type": "code",
   "execution_count": null,
   "metadata": {},
   "outputs": [],
   "source": [
    "plot_results('pr', data_mrl_stae, save_path='outputs/pr_auc.pdf', **plot_kwargs)"
   ]
  },
  {
   "cell_type": "markdown",
   "metadata": {},
   "source": [
    "## Recalculate MSE and MAE metrics"
   ]
  },
  {
   "cell_type": "code",
   "execution_count": null,
   "metadata": {},
   "outputs": [],
   "source": [
    "import copy\n",
    "\n",
    "from model.eval import compute_best_roc_auc\n",
    "\n",
    "redata = defaultdict(dict)\n",
    "data = copy.deepcopy(data_mrl_stae)\n",
    "\n",
    "# iqr = (0.00, 0.95)\n",
    "iqr = (0.00, 1.00)\n",
    "\n",
    "drivers = list(data.keys())\n",
    "source_types = list(data[list(data.keys())[0]].keys())\n",
    "pprint(source_types)\n",
    "pprint(drivers)\n",
    "\n",
    "for driver in drivers:\n",
    "    for source_type in source_types:\n",
    "        x = copy.deepcopy(data[driver][source_type])\n",
    "        res = compute_best_roc_auc(\n",
    "            x['y_true'],\n",
    "            x['errors'],\n",
    "            iqr=iqr,\n",
    "            metric='mae',\n",
    "        )\n",
    "        redata[driver][source_type] = x\n",
    "        redata[driver][source_type].update(res)\n",
    "        y = redata[driver][source_type]"
   ]
  },
  {
   "cell_type": "code",
   "execution_count": null,
   "metadata": {},
   "outputs": [],
   "source": [
    "plot_results('roc', redata, save_path='outputs/roc_auc_mae.pdf', **plot_kwargs)"
   ]
  },
  {
   "cell_type": "code",
   "execution_count": null,
   "metadata": {},
   "outputs": [],
   "source": [
    "plot_results('pr', redata, save_path='outputs/pr_auc_mae.pdf', **plot_kwargs)"
   ]
  },
  {
   "cell_type": "code",
   "execution_count": null,
   "metadata": {},
   "outputs": [],
   "source": [
    "for driver in drivers:\n",
    "    for source_type in source_types:\n",
    "        x = copy.deepcopy(data[driver][source_type])\n",
    "        res = compute_best_roc_auc(\n",
    "            x['y_true'],\n",
    "            x['errors'],\n",
    "            iqr=iqr,\n",
    "            metric='mse',\n",
    "        )\n",
    "        redata[driver][source_type] = x\n",
    "        redata[driver][source_type].update(res)\n",
    "        y = redata[driver][source_type]"
   ]
  },
  {
   "cell_type": "code",
   "execution_count": null,
   "metadata": {},
   "outputs": [],
   "source": [
    "plot_results('roc', redata, save_path='outputs/roc_auc_mse.pdf', **plot_kwargs)"
   ]
  },
  {
   "cell_type": "code",
   "execution_count": null,
   "metadata": {},
   "outputs": [],
   "source": [
    "plot_results('pr', redata, save_path='outputs/pr_auc_mse.pdf', **plot_kwargs)"
   ]
  }
 ],
 "metadata": {
  "kernelspec": {
   "display_name": "torch",
   "language": "python",
   "name": "python3"
  },
  "language_info": {
   "codemirror_mode": {
    "name": "ipython",
    "version": 3
   },
   "file_extension": ".py",
   "mimetype": "text/x-python",
   "name": "python",
   "nbconvert_exporter": "python",
   "pygments_lexer": "ipython3",
   "version": "3.12.2"
  }
 },
 "nbformat": 4,
 "nbformat_minor": 2
}
