{
 "cells": [
  {
   "cell_type": "markdown",
   "metadata": {},
   "source": [
    "# Evaluation of STAE Experiments\n",
    "\n",
    "This notebook connects to MLflow, downloads all experiment runs and creates visualizations."
   ]
  },
  {
   "cell_type": "code",
   "execution_count": null,
   "metadata": {},
   "outputs": [],
   "source": [
    "%load_ext autoreload\n",
    "%autoreload 2"
   ]
  },
  {
   "cell_type": "code",
   "execution_count": null,
   "metadata": {},
   "outputs": [],
   "source": [
    "from collections import defaultdict\n",
    "from pathlib import Path\n",
    "from pprint import pprint\n",
    "\n",
    "import dagshub\n",
    "import matplotlib.pyplot as plt\n",
    "import pandas as pd\n",
    "from mlflow.client import MlflowClient\n",
    "\n",
    "from model.common import MRL_DRIVER_NAMES_MAPPING\n",
    "from model.fonts import set_cmu_typewriter_font\n",
    "from model.latex import get_caption, pivot_table_to_latex, pivotize_drivers\n",
    "from model.mlflow import download_all_runs, download_predictions, load_predictions\n",
    "from model.plot import plot_results"
   ]
  },
  {
   "cell_type": "code",
   "execution_count": null,
   "metadata": {},
   "outputs": [],
   "source": [
    "REPO_NAME = 'driver-stae'\n",
    "USER_NAME = 'matejfric'\n",
    "dagshub.init(REPO_NAME, USER_NAME, mlflow=True)  # type: ignore\n",
    "\n",
    "pd.set_option('display.max_columns', None)\n",
    "\n",
    "client = MlflowClient()\n",
    "\n",
    "plt.style.use('seaborn-v0_8-whitegrid')\n",
    "font = set_cmu_typewriter_font()\n",
    "plt.rc('font', size=34)"
   ]
  },
  {
   "cell_type": "markdown",
   "metadata": {},
   "source": [
    "## Get all experiment runs"
   ]
  },
  {
   "cell_type": "code",
   "execution_count": null,
   "metadata": {},
   "outputs": [],
   "source": [
    "experiments = client.search_experiments()\n",
    "pprint([experiment.name for experiment in experiments])"
   ]
  },
  {
   "cell_type": "code",
   "execution_count": null,
   "metadata": {},
   "outputs": [],
   "source": [
    "runs_df = download_all_runs(client=client, experiments=experiments)\n",
    "\n",
    "# Display the DataFrame\n",
    "print(f'Total runs: {len(runs_df)}')\n",
    "runs_df.head(10)"
   ]
  },
  {
   "cell_type": "code",
   "execution_count": null,
   "metadata": {},
   "outputs": [],
   "source": [
    "source_type_map = {\n",
    "    'depth': 'MDE',\n",
    "    'source_depth': 'Depth',\n",
    "    'images': 'RGB',\n",
    "    'rgb': 'RGB',\n",
    "    'masks': 'Mask',\n",
    "    'rgbd': 'RGBD',\n",
    "    'rgbdm': 'RGBDM',\n",
    "}\n",
    "source_type_color_map = {\n",
    "    'Depth': 'tab:red',\n",
    "    'RGB': 'tab:green',\n",
    "    'Mask': 'tab:blue',\n",
    "    'MDE': 'tab:orange',\n",
    "    'RGBD': 'tab:purple',\n",
    "    'RGBDM': 'tab:cyan',\n",
    "}\n",
    "source_type_linestyle_map = {\n",
    "    'MDE': '-',\n",
    "    'Mask': '--',\n",
    "    'Depth': '-.',\n",
    "    'RGB': '-',\n",
    "    'RGBD': '--',\n",
    "    'RGBDM': '-.',\n",
    "}\n",
    "driver_name_mapping = {\n",
    "    **MRL_DRIVER_NAMES_MAPPING,\n",
    "    'all': 'All',\n",
    "    'mean': 'Mean',\n",
    "    **{str(i): str(i) for i in range(1, 6)},\n",
    "    **{i: str(i) for i in range(1, 6)},\n",
    "}\n",
    "\n",
    "OUTPUT_DIR = Path('outputs')\n",
    "OUTPUT_DIR.mkdir(exist_ok=True)\n",
    "(OUTPUT_DIR / 'mrl').mkdir(exist_ok=True)\n",
    "(OUTPUT_DIR / 'dmd').mkdir(exist_ok=True)"
   ]
  },
  {
   "cell_type": "markdown",
   "metadata": {},
   "source": [
    "## Filtering"
   ]
  },
  {
   "cell_type": "code",
   "execution_count": null,
   "metadata": {},
   "outputs": [],
   "source": [
    "integer_columns = ['image_size', 'batch_size', 'early_stopping', 'max_epochs']\n",
    "runs_df[integer_columns] = runs_df[integer_columns].astype(int)\n",
    "runs_df['lambda_regularization'] = runs_df['lambda_regularization'].astype(float)"
   ]
  },
  {
   "cell_type": "markdown",
   "metadata": {},
   "source": [
    "### MRL"
   ]
  },
  {
   "cell_type": "code",
   "execution_count": null,
   "metadata": {},
   "outputs": [],
   "source": [
    "df_selection = runs_df[\n",
    "    (runs_df['image_size'] == 64)\n",
    "    & (runs_df['max_epochs'] == 100)\n",
    "    & (runs_df['tag.Dataset'] != 'dmd')\n",
    "]"
   ]
  },
  {
   "cell_type": "code",
   "execution_count": null,
   "metadata": {},
   "outputs": [],
   "source": [
    "idx = df_selection.groupby(['driver', 'source_type', 'image_size'])[\n",
    "    'metric.roc_auc'\n",
    "].idxmax()\n",
    "df_mrl_stae = df_selection.loc[idx]\n",
    "df_mrl_stae[\n",
    "    [\n",
    "        'driver',\n",
    "        'source_type',\n",
    "        'metric.roc_auc',\n",
    "        'metric.pr_auc',\n",
    "        'early_stopping',\n",
    "        'patience',\n",
    "        'best_metric',\n",
    "    ]\n",
    "]"
   ]
  },
  {
   "cell_type": "code",
   "execution_count": null,
   "metadata": {},
   "outputs": [],
   "source": [
    "df_mrl_stae_pivot = pivotize_drivers(\n",
    "    df_mrl_stae,\n",
    "    source_type_map=source_type_map,\n",
    "    driver_name_mapping=driver_name_mapping,\n",
    ")\n",
    "df_mrl_stae_pivot = df_mrl_stae_pivot[\n",
    "    [\n",
    "        'Image Type',\n",
    "        'Driver 1',\n",
    "        'Driver 2',\n",
    "        'Driver 4',\n",
    "        'Driver 5',\n",
    "        'Driver 6',\n",
    "        'Mean',\n",
    "        'All',\n",
    "    ]\n",
    "]\n",
    "df_mrl_stae_pivot.head()"
   ]
  },
  {
   "cell_type": "code",
   "execution_count": null,
   "metadata": {},
   "outputs": [],
   "source": [
    "pivot_table_to_latex(\n",
    "    df_mrl_stae_pivot.drop(columns=['All']),\n",
    "    path=OUTPUT_DIR / 'mrl' / 'stae_mrl_pivot.tex',\n",
    "    caption=get_caption('STAE', 'MRL'),\n",
    "    label='tab:stae-mrl-pivot',\n",
    ")"
   ]
  },
  {
   "cell_type": "markdown",
   "metadata": {},
   "source": [
    "### DMD"
   ]
  },
  {
   "cell_type": "code",
   "execution_count": null,
   "metadata": {},
   "outputs": [],
   "source": [
    "df_selection = runs_df[\n",
    "    (runs_df['image_size'] == 64)\n",
    "    & (runs_df['max_epochs'] == 100)\n",
    "    & (runs_df['tag.Dataset'] == 'dmd')\n",
    "    & ((runs_df['lambda_regularization'] - 1e-5).abs() > 1e-6)  # != 1e-5\n",
    "    & (runs_df['source_type'] != 'source_depth')\n",
    "]\n",
    "# source_type 'source_depth' is invalid and replaced with 'source_depth_ir_masked'\n",
    "df_selection.loc[\n",
    "    df_selection['source_type'] == 'source_depth_ir_masked', 'source_type'\n",
    "] = 'source_depth'"
   ]
  },
  {
   "cell_type": "code",
   "execution_count": null,
   "metadata": {},
   "outputs": [],
   "source": [
    "idx = df_selection.groupby(\n",
    "    ['driver', 'source_type', 'image_size', 'lambda_regularization']\n",
    ")['metric.roc_auc'].idxmax()\n",
    "df_dmd_stae = df_selection.loc[idx]\n",
    "df_dmd_stae[\n",
    "    [\n",
    "        'driver',\n",
    "        'source_type',\n",
    "        'metric.roc_auc',\n",
    "        'metric.pr_auc',\n",
    "        'early_stopping',\n",
    "        'patience',\n",
    "        'best_metric',\n",
    "        'lambda_regularization',\n",
    "    ]\n",
    "]"
   ]
  },
  {
   "cell_type": "code",
   "execution_count": null,
   "metadata": {},
   "outputs": [],
   "source": [
    "df_dmd_stae.loc[df_dmd_stae['lambda_regularization'] == 1e-6, 'source_type'] = (\n",
    "    'Mask (λ=1e-6)'\n",
    ")"
   ]
  },
  {
   "cell_type": "code",
   "execution_count": null,
   "metadata": {},
   "outputs": [],
   "source": [
    "df_dmd_stae_pivot = pivotize_drivers(\n",
    "    df_dmd_stae,\n",
    "    source_type_map=source_type_map,\n",
    "    driver_name_mapping=driver_name_mapping,\n",
    ")\n",
    "df_dmd_stae_pivot.head()"
   ]
  },
  {
   "cell_type": "code",
   "execution_count": null,
   "metadata": {},
   "outputs": [],
   "source": [
    "pivot_table_to_latex(\n",
    "    df_dmd_stae_pivot.drop(columns=['All']),\n",
    "    path=OUTPUT_DIR / 'dmd' / 'stae_dmd_pivot.tex',\n",
    "    caption=get_caption('STAE', 'DMD'),\n",
    "    label='tab:stae-dmd-pivot',\n",
    ")"
   ]
  },
  {
   "cell_type": "markdown",
   "metadata": {},
   "source": [
    "## Download predictions"
   ]
  },
  {
   "cell_type": "code",
   "execution_count": null,
   "metadata": {},
   "outputs": [],
   "source": [
    "df_mrl_stae = download_predictions(client=client, df=df_mrl_stae)\n",
    "data_mrl_stae = load_predictions(df_mrl_stae, source_type_map=source_type_map)"
   ]
  },
  {
   "cell_type": "code",
   "execution_count": null,
   "metadata": {},
   "outputs": [],
   "source": [
    "df_dmd_stae = download_predictions(client=client, df=df_dmd_stae)\n",
    "data_dmd_stae = load_predictions(\n",
    "    df_dmd_stae, source_type_map=source_type_map | {'Mask (λ=1e-6)': 'Maskλ'}\n",
    ")"
   ]
  },
  {
   "cell_type": "markdown",
   "metadata": {},
   "source": [
    "## Visualizations"
   ]
  },
  {
   "cell_type": "code",
   "execution_count": null,
   "metadata": {},
   "outputs": [],
   "source": [
    "plt.rc('font', size=17)\n",
    "\n",
    "plot_kwargs = dict(\n",
    "    source_type_color_map=source_type_color_map,\n",
    "    source_type_linestyle_map=source_type_linestyle_map,\n",
    "    driver_name_mapping=driver_name_mapping,\n",
    "    fig_height_multiplier=5,\n",
    "    fig_width_multiplier=3.6,\n",
    "    n_rows=1,\n",
    "    linewidth=2,\n",
    "    legend_outside=True,\n",
    ")"
   ]
  },
  {
   "cell_type": "code",
   "execution_count": null,
   "metadata": {},
   "outputs": [],
   "source": [
    "# Re-order\n",
    "ordering = ['geordi', 'jakub', 'michal', 'poli', 'dans']\n",
    "data_mrl_stae = {k: data_mrl_stae[k] for k in ordering}"
   ]
  },
  {
   "cell_type": "code",
   "execution_count": null,
   "metadata": {},
   "outputs": [],
   "source": [
    "plot_results(\n",
    "    'roc', data_mrl_stae, save_path=OUTPUT_DIR / 'mrl' / 'roc_auc.pdf', **plot_kwargs\n",
    ")"
   ]
  },
  {
   "cell_type": "code",
   "execution_count": null,
   "metadata": {},
   "outputs": [],
   "source": [
    "plot_results(\n",
    "    'pr', data_mrl_stae, save_path=OUTPUT_DIR / 'mrl' / 'pr_auc.pdf', **plot_kwargs\n",
    ")"
   ]
  },
  {
   "cell_type": "code",
   "execution_count": null,
   "metadata": {},
   "outputs": [],
   "source": [
    "plot_kwargs = dict(\n",
    "    source_type_color_map=source_type_color_map | {'Maskλ': 'tab:green'},\n",
    "    source_type_linestyle_map=source_type_linestyle_map | {'Maskλ': '--'},\n",
    "    driver_name_mapping=driver_name_mapping,\n",
    "    fig_height_multiplier=5,\n",
    "    fig_width_multiplier=3.6,\n",
    "    n_rows=1,\n",
    "    linewidth=2,\n",
    "    legend_outside=True,\n",
    ")"
   ]
  },
  {
   "cell_type": "code",
   "execution_count": null,
   "metadata": {},
   "outputs": [],
   "source": [
    "plot_results(\n",
    "    'roc', data_dmd_stae, save_path=OUTPUT_DIR / 'dmd' / 'roc_auc.pdf', **plot_kwargs\n",
    ")"
   ]
  },
  {
   "cell_type": "code",
   "execution_count": null,
   "metadata": {},
   "outputs": [],
   "source": [
    "plot_results(\n",
    "    'pr', data_dmd_stae, save_path=OUTPUT_DIR / 'dmd' / 'pr_auc.pdf', **plot_kwargs\n",
    ")"
   ]
  },
  {
   "cell_type": "markdown",
   "metadata": {},
   "source": [
    "## Recalculate MSE and MAE metrics for MRL"
   ]
  },
  {
   "cell_type": "code",
   "execution_count": null,
   "metadata": {},
   "outputs": [],
   "source": [
    "import copy\n",
    "\n",
    "from model.eval import compute_best_roc_auc\n",
    "\n",
    "redata = defaultdict(dict)\n",
    "data = copy.deepcopy(data_mrl_stae)\n",
    "\n",
    "# iqr = (0.00, 0.95)\n",
    "iqr = (0.00, 1.00)\n",
    "\n",
    "drivers = list(data.keys())\n",
    "source_types = list(data[list(data.keys())[0]].keys())\n",
    "pprint(source_types)\n",
    "pprint(drivers)\n",
    "\n",
    "for driver in drivers:\n",
    "    for source_type in source_types:\n",
    "        x = copy.deepcopy(data[driver][source_type])\n",
    "        res = compute_best_roc_auc(\n",
    "            x['y_true'],\n",
    "            x['errors'],\n",
    "            iqr=iqr,\n",
    "            metric='mae',\n",
    "        )\n",
    "        redata[driver][source_type] = x\n",
    "        redata[driver][source_type].update(res)\n",
    "        y = redata[driver][source_type]"
   ]
  },
  {
   "cell_type": "code",
   "execution_count": null,
   "metadata": {},
   "outputs": [],
   "source": [
    "plot_results(\n",
    "    'roc', redata, save_path=OUTPUT_DIR / 'mrl' / 'roc_auc_mae.pdf', **plot_kwargs\n",
    ")"
   ]
  },
  {
   "cell_type": "code",
   "execution_count": null,
   "metadata": {},
   "outputs": [],
   "source": [
    "plot_results(\n",
    "    'pr', redata, save_path=OUTPUT_DIR / 'mrl' / 'pr_auc_mae.pdf', **plot_kwargs\n",
    ")"
   ]
  },
  {
   "cell_type": "code",
   "execution_count": null,
   "metadata": {},
   "outputs": [],
   "source": [
    "for driver in drivers:\n",
    "    for source_type in source_types:\n",
    "        x = copy.deepcopy(data[driver][source_type])\n",
    "        res = compute_best_roc_auc(\n",
    "            x['y_true'],\n",
    "            x['errors'],\n",
    "            iqr=iqr,\n",
    "            metric='mse',\n",
    "        )\n",
    "        redata[driver][source_type] = x\n",
    "        redata[driver][source_type].update(res)\n",
    "        y = redata[driver][source_type]"
   ]
  },
  {
   "cell_type": "code",
   "execution_count": null,
   "metadata": {},
   "outputs": [],
   "source": [
    "plot_results(\n",
    "    'roc', redata, save_path=OUTPUT_DIR / 'mrl' / 'roc_auc_mse.pdf', **plot_kwargs\n",
    ")"
   ]
  },
  {
   "cell_type": "code",
   "execution_count": null,
   "metadata": {},
   "outputs": [],
   "source": [
    "plot_results(\n",
    "    'pr', redata, save_path=OUTPUT_DIR / 'mrl' / 'pr_auc_mse.pdf', **plot_kwargs\n",
    ")"
   ]
  }
 ],
 "metadata": {
  "kernelspec": {
   "display_name": "torch",
   "language": "python",
   "name": "python3"
  },
  "language_info": {
   "codemirror_mode": {
    "name": "ipython",
    "version": 3
   },
   "file_extension": ".py",
   "mimetype": "text/x-python",
   "name": "python",
   "nbconvert_exporter": "python",
   "pygments_lexer": "ipython3",
   "version": "3.12.2"
  }
 },
 "nbformat": 4,
 "nbformat_minor": 2
}
