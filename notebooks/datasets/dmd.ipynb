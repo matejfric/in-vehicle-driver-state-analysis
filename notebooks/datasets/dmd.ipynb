{
 "cells": [
  {
   "cell_type": "markdown",
   "metadata": {},
   "source": [
    "# DMD\n",
    "\n",
    "Various preprocessing functions for the DMD (dataset)."
   ]
  },
  {
   "cell_type": "code",
   "execution_count": null,
   "metadata": {},
   "outputs": [],
   "source": [
    "%load_ext autoreload\n",
    "%autoreload 2"
   ]
  },
  {
   "cell_type": "code",
   "execution_count": null,
   "metadata": {},
   "outputs": [],
   "source": [
    "from typing import Literal\n",
    "\n",
    "import matplotlib.pyplot as plt\n",
    "from tqdm import tqdm\n",
    "\n",
    "from model.common import create_video_from_images\n",
    "from model.depth import convert_video_to_depth\n",
    "from model.dmd import (\n",
    "    ROOT,\n",
    "    convert_depth_images_to_video,  # noqa F401\n",
    "    convert_frames_to_video,\n",
    "    extract_frames,\n",
    "    get_all_sessions,\n",
    "    get_clips,\n",
    ")\n",
    "\n",
    "plt.rcParams['font.size'] = 16"
   ]
  },
  {
   "cell_type": "code",
   "execution_count": null,
   "metadata": {},
   "outputs": [],
   "source": [
    "sessions = get_all_sessions()\n",
    "for session in tqdm(sessions):\n",
    "    for source_type in ['rgb', 'depth']:\n",
    "        source_video_extension: Literal['mp4', 'avi'] = (\n",
    "            'avi' if source_type == 'depth' else 'mp4'\n",
    "        )\n",
    "        input_video_path = (\n",
    "            ROOT / session / f'{session}_{source_type}_body.{source_video_extension}'\n",
    "        )\n",
    "        annotations_file_path = ROOT / session / f'{session}.json'\n",
    "\n",
    "        assert input_video_path.exists(), f'File not found: {input_video_path}'\n",
    "        assert annotations_file_path.exists(), (\n",
    "            f'File not found: {annotations_file_path}'\n",
    "        )\n",
    "        print(f'Input video path: {input_video_path}')\n",
    "        print(f'Annotations file path: {annotations_file_path}')\n",
    "\n",
    "        extract_frames(\n",
    "            input_video_path=input_video_path,\n",
    "            annotations_file_path=annotations_file_path,\n",
    "            force_overwrite=True,\n",
    "            source_type=source_type,\n",
    "            skip_output_directory_setup=True,\n",
    "        )"
   ]
  },
  {
   "cell_type": "code",
   "execution_count": null,
   "metadata": {},
   "outputs": [],
   "source": [
    "# Extract frames from source video based on annotations\n",
    "extract_frames(\n",
    "    input_video_path=input_video_path,\n",
    "    annotations_file_path=annotations_file_path,\n",
    "    force_overwrite=False,\n",
    "    source_type=source_type,\n",
    "    skip_output_directory_setup=False,\n",
    ")"
   ]
  },
  {
   "cell_type": "code",
   "execution_count": null,
   "metadata": {},
   "outputs": [],
   "source": [
    "# RGB frames to video (also resizes to 518x518)\n",
    "convert_frames_to_video(session, source_type=source_type, preset='slow', crf=10)"
   ]
  },
  {
   "cell_type": "code",
   "execution_count": null,
   "metadata": {},
   "outputs": [],
   "source": [
    "# Video Depth Anything\n",
    "convert_video_to_depth(ROOT / session, source_type='crop_rgb')"
   ]
  },
  {
   "cell_type": "code",
   "execution_count": null,
   "metadata": {},
   "outputs": [],
   "source": [
    "convert_depth_images_to_video(\n",
    "    session, 'normal', 1, extension='png', fps=30, directory='source_depth'\n",
    ")"
   ]
  },
  {
   "cell_type": "markdown",
   "metadata": {},
   "source": [
    "## Convert Clip Masks to Video"
   ]
  },
  {
   "cell_type": "code",
   "execution_count": null,
   "metadata": {},
   "outputs": [],
   "source": [
    "session = ROOT / 'gA_4_s1_2019-03-13T10;36;15+01;00'\n",
    "assert session.exists(), f'Path not found: {session}'\n",
    "\n",
    "sequences = get_clips(session, 'anomal') + get_clips(session, 'normal')\n",
    "frame_paths = sorted(\n",
    "    [img for x in sequences for img in (x / 'masks').glob('*.png')],\n",
    "    key=lambda x: int(x.stem),\n",
    ")"
   ]
  },
  {
   "cell_type": "code",
   "execution_count": null,
   "metadata": {},
   "outputs": [],
   "source": [
    "create_video_from_images(\n",
    "    frame_paths,\n",
    "    session / f'{session.name}_masks.mp4',\n",
    "    fps=30,\n",
    "    size=(256, 256),\n",
    ")"
   ]
  }
 ],
 "metadata": {
  "kernelspec": {
   "display_name": "torch",
   "language": "python",
   "name": "python3"
  },
  "language_info": {
   "codemirror_mode": {
    "name": "ipython",
    "version": 3
   },
   "file_extension": ".py",
   "mimetype": "text/x-python",
   "name": "python",
   "nbconvert_exporter": "python",
   "pygments_lexer": "ipython3",
   "version": "3.12.2"
  }
 },
 "nbformat": 4,
 "nbformat_minor": 2
}
