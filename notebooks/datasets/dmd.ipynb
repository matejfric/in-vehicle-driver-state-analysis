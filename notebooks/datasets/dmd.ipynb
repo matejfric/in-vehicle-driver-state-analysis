{
 "cells": [
  {
   "cell_type": "markdown",
   "metadata": {},
   "source": [
    "# DMD\n",
    "\n",
    "Various preprocessing functions for the DMD (dataset)."
   ]
  },
  {
   "cell_type": "code",
   "execution_count": null,
   "metadata": {},
   "outputs": [],
   "source": [
    "%load_ext autoreload\n",
    "%autoreload 2"
   ]
  },
  {
   "cell_type": "code",
   "execution_count": null,
   "metadata": {},
   "outputs": [],
   "source": [
    "import sys\n",
    "from pathlib import Path\n",
    "from typing import Any, Literal\n",
    "\n",
    "repo_root = str(Path.cwd().parent.parent)\n",
    "if repo_root not in sys.path:\n",
    "    sys.path.append(repo_root)\n",
    "\n",
    "import cv2\n",
    "import matplotlib.pyplot as plt\n",
    "import numpy as np\n",
    "from matplotlib.ticker import FuncFormatter\n",
    "\n",
    "from model.depth import convert_video_to_depth\n",
    "from model.dmd import (\n",
    "    ROOT,\n",
    "    convert_depth_images_to_video,  # noqa F401\n",
    "    convert_frames_to_video,\n",
    "    extract_frames,\n",
    ")\n",
    "\n",
    "plt.rcParams['font.size'] = 16"
   ]
  },
  {
   "cell_type": "code",
   "execution_count": null,
   "metadata": {},
   "outputs": [],
   "source": [
    "sessions = [\n",
    "    'gA_1_s1_2019-03-08T09;31;15+01;00',\n",
    "    'gA_1_s2_2019-03-08T09;21;03+01;00',\n",
    "    'gA_1_s3_2019-03-14T14;31;08+01;00',\n",
    "    'gA_1_s4_2019-03-22T11;49;58+01;00',\n",
    "    'gA_1_s5_2019-03-14T14;26;17+01;00',\n",
    "    'gA_1_s6_2019-03-08T09;15;15+01;00',\n",
    "    'gA_1_s6_2019-03-22T11;59;56+01;00',\n",
    "    'gA_2_s1_2019-03-08T10;01;44+01;00',\n",
    "    'gA_2_s2_2019-03-08T09;50;49+01;00',\n",
    "    'gA_3_s1_2019-03-08T10;27;38+01;00',\n",
    "    'gA_3_s2_2019-03-08T10;16;48+01;00',\n",
    "    'gA_4_s1_2019-03-13T10;36;15+01;00',\n",
    "    'gA_4_s2_2019-03-13T10;43;06+01;00',\n",
    "    'gA_5_s1_2019-03-08T10;57;00+01;00',\n",
    "    'gA_5_s2_2019-03-08T10;46;46+01;00',\n",
    "]\n",
    "\n",
    "for session in sessions:\n",
    "    source_type: Literal['rgb', 'depth'] = 'depth'\n",
    "    source_video_extension: Literal['mp4', 'avi'] = (\n",
    "        'avi' if source_type == 'depth' else 'mp4'\n",
    "    )\n",
    "    input_video_path = (\n",
    "        ROOT / session / f'{session}_{source_type}_body.{source_video_extension}'\n",
    "    )\n",
    "    annotations_file_path = ROOT / session / f'{session}.json'\n",
    "\n",
    "    assert input_video_path.exists(), f'File not found: {input_video_path}'\n",
    "    assert annotations_file_path.exists(), f'File not found: {annotations_file_path}'\n",
    "    print(f'Input video path: {input_video_path}')\n",
    "    print(f'Annotations file path: {annotations_file_path}')\n",
    "\n",
    "    extract_frames(\n",
    "        input_video_path=input_video_path,\n",
    "        annotations_file_path=annotations_file_path,\n",
    "        force_overwrite=True,\n",
    "        source_type=source_type,\n",
    "        skip_output_directory_setup=True,\n",
    "    )"
   ]
  },
  {
   "cell_type": "code",
   "execution_count": null,
   "metadata": {},
   "outputs": [],
   "source": [
    "# Extract frames from source video based on annotations\n",
    "extract_frames(\n",
    "    input_video_path=input_video_path,\n",
    "    annotations_file_path=annotations_file_path,\n",
    "    force_overwrite=False,\n",
    "    source_type=source_type,\n",
    "    skip_output_directory_setup=False,\n",
    ")"
   ]
  },
  {
   "cell_type": "code",
   "execution_count": null,
   "metadata": {},
   "outputs": [],
   "source": [
    "# RGB frames to video (also resizes to 518x518)\n",
    "convert_frames_to_video(session, source_type=source_type, preset='slow', crf=10)"
   ]
  },
  {
   "cell_type": "code",
   "execution_count": null,
   "metadata": {},
   "outputs": [],
   "source": [
    "# Video Depth Anything\n",
    "convert_video_to_depth(ROOT / session, source_type='crop_rgb')"
   ]
  },
  {
   "cell_type": "code",
   "execution_count": null,
   "metadata": {},
   "outputs": [],
   "source": [
    "# Visualization with a color map\n",
    "# convert_depth_images_to_video(\n",
    "#     session, 'anomal', 4, extension='png', fps=30, directory='video_depth_anything'\n",
    "# )"
   ]
  },
  {
   "cell_type": "code",
   "execution_count": null,
   "metadata": {},
   "outputs": [],
   "source": [
    "# import shutil\n",
    "\n",
    "# all_dirs = sorted([p for p in (ROOT / session).rglob('depth_sensor') if p.is_dir()])\n",
    "# for dir in all_dirs:\n",
    "#     shutil.rmtree(dir)\n",
    "#     print(f'Removed {dir}')"
   ]
  },
  {
   "cell_type": "markdown",
   "metadata": {},
   "source": [
    "## Intel Realsense Depth Video"
   ]
  },
  {
   "cell_type": "code",
   "execution_count": null,
   "metadata": {},
   "outputs": [],
   "source": [
    "cap = cv2.VideoCapture(str(input_video_path))\n",
    "cap.set(cv2.CAP_PROP_CONVERT_RGB, 0)  # Disable RGB conversion\n",
    "cap.set(cv2.CAP_PROP_POS_FRAMES, 653)\n",
    "ret, frame = cap.read()\n",
    "cap.release()\n",
    "\n",
    "print(frame.min(), frame.max(), frame.dtype, frame.shape)\n",
    "\n",
    "# Define the threshold (e.g. 2000 mm for 2 meters)\n",
    "depth_threshold = 2000\n",
    "\n",
    "# Clip the depth values so that any value above the threshold is set to the threshold\n",
    "# img_clipped = np.clip(frame, 0, depth_threshold)\n",
    "img_clipped = np.where(frame > depth_threshold, 0, frame)\n",
    "\n",
    "# Map the range [0, depth_threshold] to [0, 255]\n",
    "img8 = ((img_clipped / depth_threshold) * 255).astype(np.uint8)\n",
    "\n",
    "plt.figure(figsize=(11, 6))\n",
    "plt.imshow(img8, cmap='gray')\n",
    "plt.axis('off')\n",
    "plt.show()\n",
    "\n",
    "\n",
    "def tick_formatter(x: Any, pos: Any) -> str:\n",
    "    \"\"\"Formatter function that scales tick values from 0-255 to 0-2000\"\"\"\n",
    "    return f'{int(round(x * 2000 / 255))}'\n",
    "\n",
    "\n",
    "plt.figure(figsize=(12, 7))\n",
    "plt.imshow(img8, cmap=plt.cm.inferno)  # type: ignore\n",
    "\n",
    "cbar = plt.colorbar(shrink=0.75)\n",
    "cbar.ax.yaxis.set_major_formatter(FuncFormatter(tick_formatter))\n",
    "cbar.set_label('Depth (mm)', rotation=270, labelpad=30)\n",
    "\n",
    "plt.axis('off')\n",
    "plt.show()"
   ]
  },
  {
   "cell_type": "code",
   "execution_count": null,
   "metadata": {},
   "outputs": [],
   "source": [
    "# extract_frames(\n",
    "#     input_video_path=input_video_path,\n",
    "#     annotations_file_path=annotations_file_path,\n",
    "#     force_overwrite=False,\n",
    "#     source_type=source_type,\n",
    "#     skip_output_directory_setup=True,\n",
    "# )"
   ]
  },
  {
   "cell_type": "code",
   "execution_count": null,
   "metadata": {},
   "outputs": [],
   "source": [
    "convert_depth_images_to_video(\n",
    "    session, 'normal', 1, extension='png', fps=30, directory='source_depth'\n",
    ")"
   ]
  },
  {
   "cell_type": "markdown",
   "metadata": {},
   "source": [
    "## Convert Clip Masks to Video"
   ]
  },
  {
   "cell_type": "code",
   "execution_count": null,
   "metadata": {},
   "outputs": [],
   "source": [
    "from model.common import create_video_from_images\n",
    "\n",
    "session = ROOT / 'gA_1_s4_2019-03-22T11;49;58+01;00'\n",
    "assert session.exists(), f'Path not found: {session}'\n",
    "\n",
    "\n",
    "def get_clips(session: Path, category: str) -> list[Path]:\n",
    "    return [x for x in (session / category).glob('*') if x.is_dir()]\n",
    "\n",
    "\n",
    "sequences = get_clips(session, 'anomal') + get_clips(session, 'normal')\n",
    "frame_paths = sorted(\n",
    "    [img for x in sequences for img in (x / 'masks').glob('*.png')],\n",
    "    key=lambda x: int(x.stem),\n",
    ")"
   ]
  },
  {
   "cell_type": "code",
   "execution_count": null,
   "metadata": {},
   "outputs": [],
   "source": [
    "create_video_from_images(\n",
    "    frame_paths,\n",
    "    session / f'{session.name}_masks.mp4',\n",
    "    fps=30,\n",
    "    size=(256, 256),\n",
    ")"
   ]
  }
 ],
 "metadata": {
  "kernelspec": {
   "display_name": "torch",
   "language": "python",
   "name": "python3"
  },
  "language_info": {
   "codemirror_mode": {
    "name": "ipython",
    "version": 3
   },
   "file_extension": ".py",
   "mimetype": "text/x-python",
   "name": "python",
   "nbconvert_exporter": "python",
   "pygments_lexer": "ipython3",
   "version": "3.12.2"
  }
 },
 "nbformat": 4,
 "nbformat_minor": 2
}
