{
 "cells": [
  {
   "cell_type": "markdown",
   "metadata": {},
   "source": [
    "# Inference"
   ]
  },
  {
   "cell_type": "code",
   "execution_count": 1,
   "metadata": {},
   "outputs": [],
   "source": [
    "%load_ext autoreload\n",
    "%autoreload 2"
   ]
  },
  {
   "cell_type": "code",
   "execution_count": null,
   "metadata": {},
   "outputs": [],
   "source": [
    "import datetime\n",
    "import time\n",
    "from pathlib import Path\n",
    "\n",
    "import numpy as np\n",
    "from PIL import Image\n",
    "from sam2util import convert_jpg_to_mp4\n",
    "from tqdm import tqdm\n",
    "\n",
    "from model.inference import (\n",
    "    filter_small_segments,\n",
    "    init_dagshub,\n",
    "    load_image,\n",
    "    load_model_from_dagshub,\n",
    "    measure_model_fps,\n",
    "    predict,\n",
    ")\n",
    "from model.plot import plot_single_prediction\n"
   ]
  },
  {
   "cell_type": "code",
   "execution_count": null,
   "metadata": {},
   "outputs": [],
   "source": [
    "init_dagshub(repo_name='driver-state')"
   ]
  },
  {
   "cell_type": "code",
   "execution_count": null,
   "metadata": {},
   "outputs": [],
   "source": [
    "MODEL_NAME = 'pytorch-2024-09-15-215831-unet-efficientnet-b0'\n",
    "VERSION = 1\n",
    "model = load_model_from_dagshub(MODEL_NAME, VERSION)"
   ]
  },
  {
   "cell_type": "code",
   "execution_count": null,
   "metadata": {},
   "outputs": [],
   "source": [
    "OUTPUT_DIR = Path('outputs') / f'{datetime.datetime.now().strftime(\"%Y-%m-%d-%H%M%S\")}-{MODEL_NAME}-v{VERSION}'\n",
    "OUTPUT_DIR.mkdir(exist_ok=True, parents=True)\n",
    "\n",
    "DATASET_PATH = Path('/home/lanter/source/driver-dataset/images/2022_09_14_stribny_enyaq/normal')\n",
    "\n",
    "for image_path in tqdm(sorted(DATASET_PATH.glob('*.jpg'))):\n",
    "    image = load_image(image_path)\n",
    "    mask = predict(model, image, input_size=256, output_size=(1024, 1024))\n",
    "    # plot_single_prediction(image, mask)\n",
    "\n",
    "    mask = mask.squeeze().numpy()\n",
    "    binary_mask = (mask > 0.5).astype(np.uint8)\n",
    "\n",
    "    # Filter out small segments\n",
    "    filtered_binary_mask = filter_small_segments(binary_mask, min_area=(1024 // 4)**2)\n",
    "\n",
    "    mask_rgba = np.zeros((*mask.shape, 4), dtype=np.uint8)\n",
    "    mask_rgba[..., 0] = 255  # Red\n",
    "    mask_rgba[..., 3] = filtered_binary_mask * 102  # Alpha channel with transparency\n",
    "    mask_img = Image.fromarray(mask_rgba, \"RGBA\")\n",
    "    image_rgba = image.resize((mask.shape[0], mask.shape[1])).convert(\"RGBA\")\n",
    "    overlay_img = Image.alpha_composite(image_rgba, mask_img)\n",
    "    overlay_img.convert(\"RGB\").save(OUTPUT_DIR / f'{int(image_path.stem) // 30 :05d}.jpg')\n",
    "\n",
    "    with open(OUTPUT_DIR / 'dataset_path.txt', 'w') as f:\n",
    "        f.write(str(DATASET_PATH))"
   ]
  },
  {
   "cell_type": "code",
   "execution_count": null,
   "metadata": {},
   "outputs": [],
   "source": [
    "measure_model_fps(model, DATASET_PATH)"
   ]
  },
  {
   "cell_type": "code",
   "execution_count": null,
   "metadata": {},
   "outputs": [],
   "source": [
    "DATASET_PATH.parent.name, DATASET_PATH.name"
   ]
  },
  {
   "cell_type": "code",
   "execution_count": 15,
   "metadata": {},
   "outputs": [],
   "source": [
    "FPS = 15\n",
    "output_video_name = f'{DATASET_PATH.parent.name}_{DATASET_PATH.name}_{FPS}fps.mp4'\n",
    "convert_jpg_to_mp4(OUTPUT_DIR, OUTPUT_DIR / output_video_name, fps=FPS)"
   ]
  }
 ],
 "metadata": {
  "kernelspec": {
   "display_name": "Python 3 (ipykernel)",
   "language": "python",
   "name": "python3"
  },
  "language_info": {
   "codemirror_mode": {
    "name": "ipython",
    "version": 3
   },
   "file_extension": ".py",
   "mimetype": "text/x-python",
   "name": "python",
   "nbconvert_exporter": "python",
   "pygments_lexer": "ipython3",
   "version": "3.12.3"
  }
 },
 "nbformat": 4,
 "nbformat_minor": 2
}
