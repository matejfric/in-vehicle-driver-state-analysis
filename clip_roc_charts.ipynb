{
 "cells": [
  {
   "cell_type": "code",
   "execution_count": null,
   "metadata": {},
   "outputs": [],
   "source": [
    "%load_ext autoreload\n",
    "%autoreload 2"
   ]
  },
  {
   "cell_type": "code",
   "execution_count": 66,
   "metadata": {},
   "outputs": [],
   "source": [
    "import json\n",
    "from pathlib import Path\n",
    "\n",
    "import matplotlib.pyplot as plt\n",
    "import numpy as np\n",
    "\n",
    "from model.common import Anomalies\n",
    "from model.plot import plot_roc_charts\n"
   ]
  },
  {
   "cell_type": "code",
   "execution_count": 67,
   "metadata": {},
   "outputs": [],
   "source": [
    "plt.style.use('seaborn-v0_8-whitegrid')\n",
    "plt.rcParams.update({'font.size': 24})"
   ]
  },
  {
   "cell_type": "code",
   "execution_count": 68,
   "metadata": {},
   "outputs": [],
   "source": [
    "DRIVER_MAP = {\n",
    "    'geordi': '2021_08_31_geordi_enyaq',\n",
    "    'poli': '2021_09_06_poli_enyaq',\n",
    "    'michal': '2021_11_05_michal_enyaq',\n",
    "    'dans': '2021_11_18_dans_enyaq',\n",
    "    'jakub': '2021_11_18_jakubh_enyaq',\n",
    "}\n",
    "DRIVER_ID_MAP = {\n",
    "    'geordi': 'A',\n",
    "    'poli': 'B',\n",
    "    'michal': 'C',\n",
    "    'dans': 'D',\n",
    "    'jakub': 'E',\n",
    "}\n",
    "DRIVER_PREDS_MAP = {\n",
    "    'geordi': 'logs/2024-12-24-114153-CLIP-geordi/version_0/preds.json',\n",
    "    'poli': 'logs/2024-12-24-114711-CLIP-poli/version_0/preds.json',\n",
    "    'michal': 'logs/2024-12-24-114918-CLIP-michal/version_0/preds.json',\n",
    "    'dans': 'logs/2024-12-24-115042-CLIP-dans/version_0/preds.json',\n",
    "    'jakub': 'logs/2024-12-24-115234-CLIP-jakub/version_0/preds.json',\n",
    "}\n",
    "DATASET_DIR = Path().home() / 'source/driver-dataset/2024-10-28-driver-all-frames'"
   ]
  },
  {
   "cell_type": "code",
   "execution_count": 69,
   "metadata": {},
   "outputs": [],
   "source": [
    "DRIVER_PREDS_MAP = {\n",
    "    'geordi': 'logs/2024-12-24-114153-CLIP-geordi/version_0/preds.json',\n",
    "    'poli': 'logs/2024-12-24-114711-CLIP-poli/version_0/preds.json',\n",
    "    'michal': 'logs/2024-12-24-114918-CLIP-michal/version_0/preds.json',\n",
    "    'dans': 'logs/2024-12-24-115042-CLIP-dans/version_0/preds.json',\n",
    "    'jakub': 'logs/2024-12-24-115234-CLIP-jakub/version_0/preds.json',\n",
    "}"
   ]
  },
  {
   "cell_type": "code",
   "execution_count": 70,
   "metadata": {},
   "outputs": [],
   "source": [
    "def get_gt(driver: str, length: int) -> list[int]:\n",
    "    anomalies_file = DATASET_DIR / DRIVER_MAP[driver] / 'anomal' / 'labels.txt'\n",
    "    assert anomalies_file.exists(), f'Anomalies file does not exist: {anomalies_file}'\n",
    "    anomalies = Anomalies.from_file(anomalies_file)\n",
    "    y_true = anomalies.to_ground_truth(length)\n",
    "    return y_true"
   ]
  },
  {
   "cell_type": "code",
   "execution_count": 71,
   "metadata": {},
   "outputs": [],
   "source": [
    "def get_pred(driver: str) -> np.ndarray:\n",
    "    with open(DRIVER_PREDS_MAP[driver]) as f:\n",
    "        preds = json.load(f)\n",
    "    return np.array(preds)[:, 1]  # only get the anomaly score"
   ]
  },
  {
   "cell_type": "code",
   "execution_count": 72,
   "metadata": {},
   "outputs": [],
   "source": [
    "y_preds = {driver: get_pred(driver) for driver in DRIVER_MAP}\n",
    "y_trues = {driver: get_gt(driver, len(y_preds[driver])) for driver in DRIVER_MAP}"
   ]
  },
  {
   "cell_type": "code",
   "execution_count": null,
   "metadata": {},
   "outputs": [],
   "source": [
    "y_pred_list = []\n",
    "y_true_list = []\n",
    "titles = []\n",
    "for driver in DRIVER_MAP:\n",
    "    y_pred_list.append(y_preds[driver])\n",
    "    y_true_list.append(y_trues[driver])\n",
    "    titles.append(f'Driver {DRIVER_ID_MAP[driver]}')\n",
    "\n",
    "metrics = plot_roc_charts(\n",
    "    y_true_list,\n",
    "    y_pred_list,\n",
    "    titles=titles,\n",
    "    cmap='rainbow',\n",
    "    cbar_text='Thresholds',\n",
    "    save_path='logs/clip-roc-charts.pdf',\n",
    ")"
   ]
  }
 ],
 "metadata": {
  "kernelspec": {
   "display_name": "torch",
   "language": "python",
   "name": "python3"
  },
  "language_info": {
   "codemirror_mode": {
    "name": "ipython",
    "version": 3
   },
   "file_extension": ".py",
   "mimetype": "text/x-python",
   "name": "python",
   "nbconvert_exporter": "python",
   "pygments_lexer": "ipython3",
   "version": "3.12.2"
  }
 },
 "nbformat": 4,
 "nbformat_minor": 2
}
